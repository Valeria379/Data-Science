{
  "nbformat": 4,
  "nbformat_minor": 0,
  "metadata": {
    "colab": {
      "name": "Лабораторная работа№3",
      "provenance": [],
      "authorship_tag": "ABX9TyPKEI3l05QsGNh0R4jVoIud",
      "include_colab_link": true
    },
    "kernelspec": {
      "name": "python3",
      "display_name": "Python 3"
    },
    "language_info": {
      "name": "python"
    }
  },
  "cells": [
    {
      "cell_type": "markdown",
      "metadata": {
        "id": "view-in-github",
        "colab_type": "text"
      },
      "source": [
        "<a href=\"https://colab.research.google.com/github/Valeria379/Valeria-Morozova/blob/main/%D0%9B%D0%B0%D0%B1%D0%BE%D1%80%D0%B0%D1%82%D0%BE%D1%80%D0%BD%D0%B0%D1%8F_%D1%80%D0%B0%D0%B1%D0%BE%D1%82%D0%B0%E2%84%963.ipynb\" target=\"_parent\"><img src=\"https://colab.research.google.com/assets/colab-badge.svg\" alt=\"Open In Colab\"/></a>"
      ]
    },
    {
      "cell_type": "code",
      "metadata": {
        "colab": {
          "base_uri": "https://localhost:8080/"
        },
        "id": "El5YS5XbleNb",
        "outputId": "c38469f4-832d-4a26-9dd5-abe62b5d2b81"
      },
      "source": [
        "# Программирование на языке высокого уровня (Python).\n",
        "# https://www.yuripetrov.ru/edu/python\n",
        "# Задание task_03_02_01.\n",
        "#\n",
        "# Выполнил: Морозова Валерия\n",
        "# Группа:АДЕУ-211\n",
        "# E-mail:m.leramorozova@gmail.com\n",
        "\n",
        "\n",
        "a = int(input(\"a=\"))\n",
        "b = 3\n",
        "\n",
        "print(a + b)\n",
        "print(a - b)\n",
        "print(a * b)\n",
        "print(a / b)\n",
        "print(a // b)\n",
        "print(a % b)\n",
        "print(a ** b)\n",
        "\n",
        "\n",
        "\n",
        "\n",
        "print(a < b)\n",
        "print(a > b)\n",
        "print(a >= b)\n",
        "print(a <= b)\n",
        "print(a != b)\n",
        "print(a == b)\n",
        "\n",
        "\n",
        "# --------------\n",
        "# Пример вывода:\n",
        "#\n",
        "# a=2\n",
        "# b=3\n",
        "# 5\n",
        "# -1\n",
        "# 6\n",
        "# 0.67\n",
        "# 0\n",
        "# 2\n",
        "# 8\n",
        "# True\n",
        "# True\n",
        "# False\n",
        "# False\n",
        "# True\n",
        "# False\n"
      ],
      "execution_count": null,
      "outputs": [
        {
          "output_type": "stream",
          "name": "stdout",
          "text": [
            "a=5\n",
            "8\n",
            "2\n",
            "15\n",
            "1.6666666666666667\n",
            "1\n",
            "2\n",
            "125\n",
            "False\n",
            "True\n",
            "True\n",
            "False\n",
            "True\n",
            "False\n"
          ]
        }
      ]
    },
    {
      "cell_type": "code",
      "metadata": {
        "colab": {
          "base_uri": "https://localhost:8080/"
        },
        "id": "NdKkjQZurlhg",
        "outputId": "d7226b73-be1f-4f0f-ae93-7fe30229ccae"
      },
      "source": [
        "\n",
        "x = int(input(\"x=\"))\n",
        "y = int(input(\"y=\"))\n",
        "z = int(input(\"z=\"))\n",
        "\n",
        "res = ((x**5 + 7) / abs(-6)*y)**(1 / 3) / (7 - z % y)\n",
        "print(round(res, 3))\n",
        "\n",
        "\n",
        "# --------------\n",
        "# Пример вывода:\n",
        "#\n",
        "# x=0\n",
        "# y=1\n",
        "# z=2\n",
        "# 0.15\n"
      ],
      "execution_count": null,
      "outputs": [
        {
          "output_type": "stream",
          "name": "stdout",
          "text": [
            "x=3\n",
            "y=5\n",
            "z=7\n",
            "1.186\n"
          ]
        }
      ]
    },
    {
      "cell_type": "code",
      "metadata": {
        "id": "R8BXwxiFvaBO"
      },
      "source": [
        "Задание task_03_02_03.\n",
        "#\n",
        "# Выполнил:Морозова Валерия\n",
        "# Группа: АДЭУ-211\n",
        "# E-mail:\n",
        "\n",
        "\n",
        "# Сопротивление первого проводника\n",
        "r1 = # Удалите комментарий и допишите код\n",
        "# Сопротивление второго проводника\n",
        "r2 = # Удалите комментарий и допишите код\n",
        "\n",
        "# Общее сопротивление\n",
        "r = # Удалите комментарий и допишите код\n",
        "\n",
        "# Удалите комментарий и допишите код\n",
        "\n",
        "\n",
        "# --------------\n",
        "# Пример вывода:\n",
        "#\n",
        "# r1=12.2\n",
        "# r2=16.1\n",
        "# 28.3\n"
      ],
      "execution_count": null,
      "outputs": []
    }
  ]
}