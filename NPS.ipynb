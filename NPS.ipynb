{
  "cells": [
    {
      "cell_type": "markdown",
      "metadata": {
        "id": "view-in-github",
        "colab_type": "text"
      },
      "source": [
        "<a href=\"https://colab.research.google.com/github/Valeria379/Valeria-Morozova/blob/main/NPS.ipynb\" target=\"_parent\"><img src=\"https://colab.research.google.com/assets/colab-badge.svg\" alt=\"Open In Colab\"/></a>"
      ]
    },
    {
      "cell_type": "markdown",
      "source": [
        "## 1. **DRY: Don't repeat yourself**\n",
        "<p><img src=\"https://assets.datacamp.com/production/project_1234/img/survey.png\" style=\"float: center;\" alt=\"A\" width=\"100%\"></p>\n",
        "<p>Вы когда-нибудь начинали анализ данных и заканчивали повторяющимся кодом? Бренда, работающая продуктовым аналитиком, оказалась в такой ситуации и обратилась к нам за помощью. Она написала скрипт для получения данных Net Promotor Score (NPS) из различных источников. NPS работает, задавая вопрос:\n",
        " \n",
        " <b> Насколько вероятно, что вы порекомендуете наш продукт другу или коллеге? со шкалой оценок от 0 до 10</b>.\n",
        " \n",
        "  Бренда настроила этот опрос NPS различными способами, включая электронные письма и всплывающие окна в мобильном приложении и на сайте. Чтобы скомпилировать данные из разных источников, она написала следующий код:</p>\n",
        "<pre><code class=\"py language-py\"># Чтение ответов электронной почты NPS в DataFrame\n",
        "email = pd.read_csv(\"datasets/2020Q4_nps_email.csv\")\n",
        "# добавление столбца почтового ресурса\n",
        "email['source'] = 'email'\n",
        "\n",
        "# Повторение для мобильных и веб-ответов NPS.\n",
        "mobile = pd.read_csv(\"datasets/2020Q4_nps_mobile.csv\")\n",
        "mobile['source'] = 'mobile'\n",
        "web = pd.read_csv(\"datasets/2020Q4_nps_web.csv\")\n",
        "web['source'] = 'web'\n",
        "\n",
        "# Обьединение DataFrames\n",
        "q4_nps = pd.concat([email,mobile,web])\n",
        "</code></pre>\n",
        "<p>This results in the DataFrame <code>q4_nps</code> that looks like this:</p>\n",
        "<table>\n",
        "<thead>\n",
        "<tr>\n",
        "<th></th>\n",
        "<th><code>response_date</code></th>\n",
        "<th><code>user_id</code></th>\n",
        "<th><code>nps_rating</code></th>\n",
        "<th><code>source</code></th>\n",
        "</tr>\n",
        "</thead>\n",
        "<tbody>\n",
        "<tr>\n",
        "<td>0</td>\n",
        "<td>2020-10-29</td>\n",
        "<td>36742</td>\n",
        "<td>2</td>\n",
        "<td>email</td>\n",
        "</tr>\n",
        "<tr>\n",
        "<td>1</td>\n",
        "<td>2020-11-26</td>\n",
        "<td>31851</td>\n",
        "<td>10</td>\n",
        "<td>email</td>\n",
        "</tr>\n",
        "<tr>\n",
        "<td>2</td>\n",
        "<td>2020-10-27</td>\n",
        "<td>44299</td>\n",
        "<td>10</td>\n",
        "<td>email</td>\n",
        "</tr>\n",
        "<tr>\n",
        "<td>…</td>\n",
        "<td>…</td>\n",
        "<td>…</td>\n",
        "<td>…</td>\n",
        "<td>…</td>\n",
        "</tr>\n",
        "</tbody>\n",
        "</table>\n",
        "<p> Этот код работает, но он нарушает принцип программирования <b> «Не повторяйся» (DRY)</b>. Бренда повторяет один и тот же код для электронной почты, мобильных устройств и Интернета, но с другими именами переменных и именами файлов. Хотя зачастую копирование и вставка выполняется быстрее, это упрощает внесение ошибок. Например, если вам нужно отредактировать одну из этих строк, вы должны сделать это в нескольких местах. Введите функции! Повторяющийся код — это признак того, что нам нужны функции. Давайте напишем функцию для Бренды.</p>"
      ],
      "metadata": {
        "id": "gtaGjoLVG-i4"
      }
    },
    {
      "cell_type": "code",
      "execution_count": null,
      "source": [
        "import pandas as pd\n",
        "\n",
        "\n",
        "def convert_csv_to_df(csv_name, source_type):\n",
        "    \"\"\" Converts an NPS CSV into a DataFrame with a column for the source. \n",
        "\n",
        "    Args:\n",
        "        csv_name (str): The name of the NPS CSV file.\n",
        "        source_type (str): The source of the NPS responses.\n",
        "\n",
        "    Returns:\n",
        "        A DataFrame with the CSV data and a column, source.\n",
        "    \"\"\"   \n",
        "    df = pd.read_csv(csv_name)\n",
        "    df['source'] = source_type\n",
        "    return df"
      ],
      "outputs": [],
      "metadata": {
        "dc": {
          "key": "3"
        },
        "tags": [
          "sample_code"
        ],
        "id": "MiFkFIKRG-i8"
      }
    },
    {
      "cell_type": "code",
      "source": [
        "from google.colab import files\n",
        "\n",
        "uploaded = files.upload()\n",
        "\n",
        "for fn in uploaded.keys():\n",
        "  print('User uploaded file \"{name}\" with length {length} bytes'.format(\n",
        "      name=fn, length=len(uploaded[fn])))"
      ],
      "metadata": {
        "id": "vJOj2Y4yLTdZ",
        "colab": {
          "resources": {
            "http://localhost:8080/nbextensions/google.colab/files.js": {
              "data": "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",
              "ok": true,
              "headers": [
                [
                  "content-type",
                  "application/javascript"
                ]
              ],
              "status": 200,
              "status_text": ""
            }
          },
          "base_uri": "https://localhost:8080/",
          "height": 90
        },
        "outputId": "f44af149-eea2-4f02-86af-8736739f27cf"
      },
      "execution_count": null,
      "outputs": [
        {
          "output_type": "display_data",
          "data": {
            "text/plain": [
              "<IPython.core.display.HTML object>"
            ],
            "text/html": [
              "\n",
              "     <input type=\"file\" id=\"files-1983155b-2882-4420-98b6-c9963d189153\" name=\"files[]\" multiple disabled\n",
              "        style=\"border:none\" />\n",
              "     <output id=\"result-1983155b-2882-4420-98b6-c9963d189153\">\n",
              "      Upload widget is only available when the cell has been executed in the\n",
              "      current browser session. Please rerun this cell to enable.\n",
              "      </output>\n",
              "      <script src=\"/nbextensions/google.colab/files.js\"></script> "
            ]
          },
          "metadata": {}
        },
        {
          "output_type": "stream",
          "name": "stdout",
          "text": [
            "Saving 2020Q4_nps_mobile.csv to 2020Q4_nps_mobile.csv\n",
            "User uploaded file \"2020Q4_nps_mobile.csv\" with length 34419 bytes\n"
          ]
        }
      ]
    },
    {
      "cell_type": "code",
      "source": [
        "# Test the function on the mobile data: \n",
        "convert_csv_to_df(\"2020Q4_nps_mobile.csv\", \"mobile\")"
      ],
      "metadata": {
        "id": "uq-vTphnLXSX",
        "colab": {
          "base_uri": "https://localhost:8080/",
          "height": 424
        },
        "outputId": "d17f1182-7914-4ed1-cd43-37c6157c9a09"
      },
      "execution_count": null,
      "outputs": [
        {
          "output_type": "execute_result",
          "data": {
            "text/plain": [
              "     response_date  user_id  nps_rating  source\n",
              "0       2020-12-29    14178           3  mobile\n",
              "1       2020-10-29    33221           1  mobile\n",
              "2       2020-11-01    21127          10  mobile\n",
              "3       2020-12-07    42894           3  mobile\n",
              "4       2020-11-26    30501           5  mobile\n",
              "...            ...      ...         ...     ...\n",
              "1796    2020-12-29    49529           3  mobile\n",
              "1797    2020-12-24    23671           7  mobile\n",
              "1798    2020-11-28    39954           7  mobile\n",
              "1799    2020-12-19    21098           7  mobile\n",
              "1800    2020-12-23    14919           7  mobile\n",
              "\n",
              "[1801 rows x 4 columns]"
            ],
            "text/html": [
              "\n",
              "  <div id=\"df-b5defc04-9611-4f3a-a1a5-5b1847442654\">\n",
              "    <div class=\"colab-df-container\">\n",
              "      <div>\n",
              "<style scoped>\n",
              "    .dataframe tbody tr th:only-of-type {\n",
              "        vertical-align: middle;\n",
              "    }\n",
              "\n",
              "    .dataframe tbody tr th {\n",
              "        vertical-align: top;\n",
              "    }\n",
              "\n",
              "    .dataframe thead th {\n",
              "        text-align: right;\n",
              "    }\n",
              "</style>\n",
              "<table border=\"1\" class=\"dataframe\">\n",
              "  <thead>\n",
              "    <tr style=\"text-align: right;\">\n",
              "      <th></th>\n",
              "      <th>response_date</th>\n",
              "      <th>user_id</th>\n",
              "      <th>nps_rating</th>\n",
              "      <th>source</th>\n",
              "    </tr>\n",
              "  </thead>\n",
              "  <tbody>\n",
              "    <tr>\n",
              "      <th>0</th>\n",
              "      <td>2020-12-29</td>\n",
              "      <td>14178</td>\n",
              "      <td>3</td>\n",
              "      <td>mobile</td>\n",
              "    </tr>\n",
              "    <tr>\n",
              "      <th>1</th>\n",
              "      <td>2020-10-29</td>\n",
              "      <td>33221</td>\n",
              "      <td>1</td>\n",
              "      <td>mobile</td>\n",
              "    </tr>\n",
              "    <tr>\n",
              "      <th>2</th>\n",
              "      <td>2020-11-01</td>\n",
              "      <td>21127</td>\n",
              "      <td>10</td>\n",
              "      <td>mobile</td>\n",
              "    </tr>\n",
              "    <tr>\n",
              "      <th>3</th>\n",
              "      <td>2020-12-07</td>\n",
              "      <td>42894</td>\n",
              "      <td>3</td>\n",
              "      <td>mobile</td>\n",
              "    </tr>\n",
              "    <tr>\n",
              "      <th>4</th>\n",
              "      <td>2020-11-26</td>\n",
              "      <td>30501</td>\n",
              "      <td>5</td>\n",
              "      <td>mobile</td>\n",
              "    </tr>\n",
              "    <tr>\n",
              "      <th>...</th>\n",
              "      <td>...</td>\n",
              "      <td>...</td>\n",
              "      <td>...</td>\n",
              "      <td>...</td>\n",
              "    </tr>\n",
              "    <tr>\n",
              "      <th>1796</th>\n",
              "      <td>2020-12-29</td>\n",
              "      <td>49529</td>\n",
              "      <td>3</td>\n",
              "      <td>mobile</td>\n",
              "    </tr>\n",
              "    <tr>\n",
              "      <th>1797</th>\n",
              "      <td>2020-12-24</td>\n",
              "      <td>23671</td>\n",
              "      <td>7</td>\n",
              "      <td>mobile</td>\n",
              "    </tr>\n",
              "    <tr>\n",
              "      <th>1798</th>\n",
              "      <td>2020-11-28</td>\n",
              "      <td>39954</td>\n",
              "      <td>7</td>\n",
              "      <td>mobile</td>\n",
              "    </tr>\n",
              "    <tr>\n",
              "      <th>1799</th>\n",
              "      <td>2020-12-19</td>\n",
              "      <td>21098</td>\n",
              "      <td>7</td>\n",
              "      <td>mobile</td>\n",
              "    </tr>\n",
              "    <tr>\n",
              "      <th>1800</th>\n",
              "      <td>2020-12-23</td>\n",
              "      <td>14919</td>\n",
              "      <td>7</td>\n",
              "      <td>mobile</td>\n",
              "    </tr>\n",
              "  </tbody>\n",
              "</table>\n",
              "<p>1801 rows × 4 columns</p>\n",
              "</div>\n",
              "      <button class=\"colab-df-convert\" onclick=\"convertToInteractive('df-b5defc04-9611-4f3a-a1a5-5b1847442654')\"\n",
              "              title=\"Convert this dataframe to an interactive table.\"\n",
              "              style=\"display:none;\">\n",
              "        \n",
              "  <svg xmlns=\"http://www.w3.org/2000/svg\" height=\"24px\"viewBox=\"0 0 24 24\"\n",
              "       width=\"24px\">\n",
              "    <path d=\"M0 0h24v24H0V0z\" fill=\"none\"/>\n",
              "    <path d=\"M18.56 5.44l.94 2.06.94-2.06 2.06-.94-2.06-.94-.94-2.06-.94 2.06-2.06.94zm-11 1L8.5 8.5l.94-2.06 2.06-.94-2.06-.94L8.5 2.5l-.94 2.06-2.06.94zm10 10l.94 2.06.94-2.06 2.06-.94-2.06-.94-.94-2.06-.94 2.06-2.06.94z\"/><path d=\"M17.41 7.96l-1.37-1.37c-.4-.4-.92-.59-1.43-.59-.52 0-1.04.2-1.43.59L10.3 9.45l-7.72 7.72c-.78.78-.78 2.05 0 2.83L4 21.41c.39.39.9.59 1.41.59.51 0 1.02-.2 1.41-.59l7.78-7.78 2.81-2.81c.8-.78.8-2.07 0-2.86zM5.41 20L4 18.59l7.72-7.72 1.47 1.35L5.41 20z\"/>\n",
              "  </svg>\n",
              "      </button>\n",
              "      \n",
              "  <style>\n",
              "    .colab-df-container {\n",
              "      display:flex;\n",
              "      flex-wrap:wrap;\n",
              "      gap: 12px;\n",
              "    }\n",
              "\n",
              "    .colab-df-convert {\n",
              "      background-color: #E8F0FE;\n",
              "      border: none;\n",
              "      border-radius: 50%;\n",
              "      cursor: pointer;\n",
              "      display: none;\n",
              "      fill: #1967D2;\n",
              "      height: 32px;\n",
              "      padding: 0 0 0 0;\n",
              "      width: 32px;\n",
              "    }\n",
              "\n",
              "    .colab-df-convert:hover {\n",
              "      background-color: #E2EBFA;\n",
              "      box-shadow: 0px 1px 2px rgba(60, 64, 67, 0.3), 0px 1px 3px 1px rgba(60, 64, 67, 0.15);\n",
              "      fill: #174EA6;\n",
              "    }\n",
              "\n",
              "    [theme=dark] .colab-df-convert {\n",
              "      background-color: #3B4455;\n",
              "      fill: #D2E3FC;\n",
              "    }\n",
              "\n",
              "    [theme=dark] .colab-df-convert:hover {\n",
              "      background-color: #434B5C;\n",
              "      box-shadow: 0px 1px 3px 1px rgba(0, 0, 0, 0.15);\n",
              "      filter: drop-shadow(0px 1px 2px rgba(0, 0, 0, 0.3));\n",
              "      fill: #FFFFFF;\n",
              "    }\n",
              "  </style>\n",
              "\n",
              "      <script>\n",
              "        const buttonEl =\n",
              "          document.querySelector('#df-b5defc04-9611-4f3a-a1a5-5b1847442654 button.colab-df-convert');\n",
              "        buttonEl.style.display =\n",
              "          google.colab.kernel.accessAllowed ? 'block' : 'none';\n",
              "\n",
              "        async function convertToInteractive(key) {\n",
              "          const element = document.querySelector('#df-b5defc04-9611-4f3a-a1a5-5b1847442654');\n",
              "          const dataTable =\n",
              "            await google.colab.kernel.invokeFunction('convertToInteractive',\n",
              "                                                     [key], {});\n",
              "          if (!dataTable) return;\n",
              "\n",
              "          const docLinkHtml = 'Like what you see? Visit the ' +\n",
              "            '<a target=\"_blank\" href=https://colab.research.google.com/notebooks/data_table.ipynb>data table notebook</a>'\n",
              "            + ' to learn more about interactive tables.';\n",
              "          element.innerHTML = '';\n",
              "          dataTable['output_type'] = 'display_data';\n",
              "          await google.colab.output.renderOutput(dataTable, element);\n",
              "          const docLink = document.createElement('div');\n",
              "          docLink.innerHTML = docLinkHtml;\n",
              "          element.appendChild(docLink);\n",
              "        }\n",
              "      </script>\n",
              "    </div>\n",
              "  </div>\n",
              "  "
            ]
          },
          "metadata": {},
          "execution_count": 3
        }
      ]
    },
    {
      "cell_type": "markdown",
      "source": [
        "---\n",
        "## 2. Проверка файлов с помощью ключевого слова \"with\" \n",
        "<p>\n",
        "Отлично, у нас есть функция, которая читает и очищает CSV-файлы Бренды именно так, как ей нужно! Она может вызывать эту функцию в будущем для любого количества различных источников. Прежде чем мы объединим NPS DataFrames, мы хотим добавить функцию, которая проверяет правильность введенных файлов. Каждый из этих файлов набора данных NPS должен иметь три столбца: \n",
        "\n",
        "1.   <code>response_date</code>, \n",
        "2.   <code>user_id</code>,\n",
        "3.   <code>nps_rating</code>. \n",
        "\n",
        "Раньше Бренда проверяла это вручную, открывая каждый файл. </p>\n",
        "<p>Давайте напишем функцию, которая использует <strong>менеджер контекста</strong> <code>with open()</code>, чтобы правильно закрывать открываемые файлы, <a href=\"https://docs.python.org/3/tutorial/inputoutput.html#reading-and-writing-files\">даже если возникнет исключение</a>. Если мы не используем ключевое слово <code>with</code> с <code>open()</code> , нам нужно будет вызвать <code>close()</code> после того, как мы закончим с фабудет считанйл. Даже в этом случае это рискованно, поскольку ошибка может возникнуть до вызова функций <code>close()</code>. </p>\n",
        "<p>The Функция вернет <code>True</code>, если файл содержит правильные столбцы. В противном случае он вернет <code>False</code>. Чтобы протестировать функцию, мы будем использовать <code>datasets/corrupted.csv</code> для имитации поврежденного недействительного файла NPS.</p>"
      ],
      "metadata": {
        "dc": {
          "key": "10"
        },
        "deletable": false,
        "editable": false,
        "run_control": {
          "frozen": true
        },
        "tags": [
          "context"
        ],
        "id": "9Aa5p6X6G-i_"
      }
    },
    {
      "cell_type": "code",
      "execution_count": null,
      "source": [
        "def check_csv(csv_name):\n",
        "    \"\"\" Checks if a CSV has three columns: response_date, user_id, nps_rating\n",
        "\n",
        "    Args:\n",
        "        csv_name (str): The name of the CSV file.\n",
        "\n",
        "    Returns:\n",
        "        Boolean: True if the CSV is valid, False otherwise \n",
        "    \"\"\"\n",
        "    with open(csv_name) as f:\n",
        "        first_line = f.readline()\n",
        "        # Return true if the CSV has the three specified columns:\n",
        "        if first_line == \"response_date,user_id,nps_rating\\n\":\n",
        "            return True\n",
        "\n",
        "        return False\n",
        "\n",
        "\n"
      ],
      "outputs": [],
      "metadata": {
        "dc": {
          "key": "10"
        },
        "tags": [
          "sample_code"
        ],
        "id": "BTtQiJlGG-i_"
      }
    },
    {
      "cell_type": "code",
      "source": [
        "from google.colab import files\n",
        "\n",
        "uploaded = files.upload()\n",
        "\n",
        "for fn in uploaded.keys():\n",
        "  print('User uploaded file \"{name}\" with length {length} bytes'.format(\n",
        "      name=fn, length=len(uploaded[fn])))"
      ],
      "metadata": {
        "id": "yHBmzRNeO1CV",
        "colab": {
          "resources": {
            "http://localhost:8080/nbextensions/google.colab/files.js": {
              "data": "Ly8gQ29weXJpZ2h0IDIwMTcgR29vZ2xlIExMQwovLwovLyBMaWNlbnNlZCB1bmRlciB0aGUgQXBhY2hlIExpY2Vuc2UsIFZlcnNpb24gMi4wICh0aGUgIkxpY2Vuc2UiKTsKLy8geW91IG1heSBub3QgdXNlIHRoaXMgZmlsZSBleGNlcHQgaW4gY29tcGxpYW5jZSB3aXRoIHRoZSBMaWNlbnNlLgovLyBZb3UgbWF5IG9idGFpbiBhIGNvcHkgb2YgdGhlIExpY2Vuc2UgYXQKLy8KLy8gICAgICBodHRwOi8vd3d3LmFwYWNoZS5vcmcvbGljZW5zZXMvTElDRU5TRS0yLjAKLy8KLy8gVW5sZXNzIHJlcXVpcmVkIGJ5IGFwcGxpY2FibGUgbGF3IG9yIGFncmVlZCB0byBpbiB3cml0aW5nLCBzb2Z0d2FyZQovLyBkaXN0cmlidXRlZCB1bmRlciB0aGUgTGljZW5zZSBpcyBkaXN0cmlidXRlZCBvbiBhbiAiQVMgSVMiIEJBU0lTLAovLyBXSVRIT1VUIFdBUlJBTlRJRVMgT1IgQ09ORElUSU9OUyBPRiBBTlkgS0lORCwgZWl0aGVyIGV4cHJlc3Mgb3IgaW1wbGllZC4KLy8gU2VlIHRoZSBMaWNlbnNlIGZvciB0aGUgc3BlY2lmaWMgbGFuZ3VhZ2UgZ292ZXJuaW5nIHBlcm1pc3Npb25zIGFuZAovLyBsaW1pdGF0aW9ucyB1bmRlciB0aGUgTGljZW5zZS4KCi8qKgogKiBAZmlsZW92ZXJ2aWV3IEhlbHBlcnMgZm9yIGdvb2dsZS5jb2xhYiBQeXRob24gbW9kdWxlLgogKi8KKGZ1bmN0aW9uKHNjb3BlKSB7CmZ1bmN0aW9uIHNwYW4odGV4dCwgc3R5bGVBdHRyaWJ1dGVzID0ge30pIHsKICBjb25zdCBlbGVtZW50ID0gZG9jdW1lbnQuY3JlYXRlRWxlbWVudCgnc3BhbicpOwogIGVsZW1lbnQudGV4dENvbnRlbnQgPSB0ZXh0OwogIGZvciAoY29uc3Qga2V5IG9mIE9iamVjdC5rZXlzKHN0eWxlQXR0cmlidXRlcykpIHsKICAgIGVsZW1lbnQuc3R5bGVba2V5XSA9IHN0eWxlQXR0cmlidXRlc1trZXldOwogIH0KICByZXR1cm4gZWxlbWVudDsKfQoKLy8gTWF4IG51bWJlciBvZiBieXRlcyB3aGljaCB3aWxsIGJlIHVwbG9hZGVkIGF0IGEgdGltZS4KY29uc3QgTUFYX1BBWUxPQURfU0laRSA9IDEwMCAqIDEwMjQ7CgpmdW5jdGlvbiBfdXBsb2FkRmlsZXMoaW5wdXRJZCwgb3V0cHV0SWQpIHsKICBjb25zdCBzdGVwcyA9IHVwbG9hZEZpbGVzU3RlcChpbnB1dElkLCBvdXRwdXRJZCk7CiAgY29uc3Qgb3V0cHV0RWxlbWVudCA9IGRvY3VtZW50LmdldEVsZW1lbnRCeUlkKG91dHB1dElkKTsKICAvLyBDYWNoZSBzdGVwcyBvbiB0aGUgb3V0cHV0RWxlbWVudCB0byBtYWtlIGl0IGF2YWlsYWJsZSBmb3IgdGhlIG5leHQgY2FsbAogIC8vIHRvIHVwbG9hZEZpbGVzQ29udGludWUgZnJvbSBQeXRob24uCiAgb3V0cHV0RWxlbWVudC5zdGVwcyA9IHN0ZXBzOwoKICByZXR1cm4gX3VwbG9hZEZpbGVzQ29udGludWUob3V0cHV0SWQpOwp9CgovLyBUaGlzIGlzIHJvdWdobHkgYW4gYXN5bmMgZ2VuZXJhdG9yIChub3Qgc3VwcG9ydGVkIGluIHRoZSBicm93c2VyIHlldCksCi8vIHdoZXJlIHRoZXJlIGFyZSBtdWx0aXBsZSBhc3luY2hyb25vdXMgc3RlcHMgYW5kIHRoZSBQeXRob24gc2lkZSBpcyBnb2luZwovLyB0byBwb2xsIGZvciBjb21wbGV0aW9uIG9mIGVhY2ggc3RlcC4KLy8gVGhpcyB1c2VzIGEgUHJvbWlzZSB0byBibG9jayB0aGUgcHl0aG9uIHNpZGUgb24gY29tcGxldGlvbiBvZiBlYWNoIHN0ZXAsCi8vIHRoZW4gcGFzc2VzIHRoZSByZXN1bHQgb2YgdGhlIHByZXZpb3VzIHN0ZXAgYXMgdGhlIGlucHV0IHRvIHRoZSBuZXh0IHN0ZXAuCmZ1bmN0aW9uIF91cGxvYWRGaWxlc0NvbnRpbnVlKG91dHB1dElkKSB7CiAgY29uc3Qgb3V0cHV0RWxlbWVudCA9IGRvY3VtZW50LmdldEVsZW1lbnRCeUlkKG91dHB1dElkKTsKICBjb25zdCBzdGVwcyA9IG91dHB1dEVsZW1lbnQuc3RlcHM7CgogIGNvbnN0IG5leHQgPSBzdGVwcy5uZXh0KG91dHB1dEVsZW1lbnQubGFzdFByb21pc2VWYWx1ZSk7CiAgcmV0dXJuIFByb21pc2UucmVzb2x2ZShuZXh0LnZhbHVlLnByb21pc2UpLnRoZW4oKHZhbHVlKSA9PiB7CiAgICAvLyBDYWNoZSB0aGUgbGFzdCBwcm9taXNlIHZhbHVlIHRvIG1ha2UgaXQgYXZhaWxhYmxlIHRvIHRoZSBuZXh0CiAgICAvLyBzdGVwIG9mIHRoZSBnZW5lcmF0b3IuCiAgICBvdXRwdXRFbGVtZW50Lmxhc3RQcm9taXNlVmFsdWUgPSB2YWx1ZTsKICAgIHJldHVybiBuZXh0LnZhbHVlLnJlc3BvbnNlOwogIH0pOwp9CgovKioKICogR2VuZXJhdG9yIGZ1bmN0aW9uIHdoaWNoIGlzIGNhbGxlZCBiZXR3ZWVuIGVhY2ggYXN5bmMgc3RlcCBvZiB0aGUgdXBsb2FkCiAqIHByb2Nlc3MuCiAqIEBwYXJhbSB7c3RyaW5nfSBpbnB1dElkIEVsZW1lbnQgSUQgb2YgdGhlIGlucHV0IGZpbGUgcGlja2VyIGVsZW1lbnQuCiAqIEBwYXJhbSB7c3RyaW5nfSBvdXRwdXRJZCBFbGVtZW50IElEIG9mIHRoZSBvdXRwdXQgZGlzcGxheS4KICogQHJldHVybiB7IUl0ZXJhYmxlPCFPYmplY3Q+fSBJdGVyYWJsZSBvZiBuZXh0IHN0ZXBzLgogKi8KZnVuY3Rpb24qIHVwbG9hZEZpbGVzU3RlcChpbnB1dElkLCBvdXRwdXRJZCkgewogIGNvbnN0IGlucHV0RWxlbWVudCA9IGRvY3VtZW50LmdldEVsZW1lbnRCeUlkKGlucHV0SWQpOwogIGlucHV0RWxlbWVudC5kaXNhYmxlZCA9IGZhbHNlOwoKICBjb25zdCBvdXRwdXRFbGVtZW50ID0gZG9jdW1lbnQuZ2V0RWxlbWVudEJ5SWQob3V0cHV0SWQpOwogIG91dHB1dEVsZW1lbnQuaW5uZXJIVE1MID0gJyc7CgogIGNvbnN0IHBpY2tlZFByb21pc2UgPSBuZXcgUHJvbWlzZSgocmVzb2x2ZSkgPT4gewogICAgaW5wdXRFbGVtZW50LmFkZEV2ZW50TGlzdGVuZXIoJ2NoYW5nZScsIChlKSA9PiB7CiAgICAgIHJlc29sdmUoZS50YXJnZXQuZmlsZXMpOwogICAgfSk7CiAgfSk7CgogIGNvbnN0IGNhbmNlbCA9IGRvY3VtZW50LmNyZWF0ZUVsZW1lbnQoJ2J1dHRvbicpOwogIGlucHV0RWxlbWVudC5wYXJlbnRFbGVtZW50LmFwcGVuZENoaWxkKGNhbmNlbCk7CiAgY2FuY2VsLnRleHRDb250ZW50ID0gJ0NhbmNlbCB1cGxvYWQnOwogIGNvbnN0IGNhbmNlbFByb21pc2UgPSBuZXcgUHJvbWlzZSgocmVzb2x2ZSkgPT4gewogICAgY2FuY2VsLm9uY2xpY2sgPSAoKSA9PiB7CiAgICAgIHJlc29sdmUobnVsbCk7CiAgICB9OwogIH0pOwoKICAvLyBXYWl0IGZvciB0aGUgdXNlciB0byBwaWNrIHRoZSBmaWxlcy4KICBjb25zdCBmaWxlcyA9IHlpZWxkIHsKICAgIHByb21pc2U6IFByb21pc2UucmFjZShbcGlja2VkUHJvbWlzZSwgY2FuY2VsUHJvbWlzZV0pLAogICAgcmVzcG9uc2U6IHsKICAgICAgYWN0aW9uOiAnc3RhcnRpbmcnLAogICAgfQogIH07CgogIGNhbmNlbC5yZW1vdmUoKTsKCiAgLy8gRGlzYWJsZSB0aGUgaW5wdXQgZWxlbWVudCBzaW5jZSBmdXJ0aGVyIHBpY2tzIGFyZSBub3QgYWxsb3dlZC4KICBpbnB1dEVsZW1lbnQuZGlzYWJsZWQgPSB0cnVlOwoKICBpZiAoIWZpbGVzKSB7CiAgICByZXR1cm4gewogICAgICByZXNwb25zZTogewogICAgICAgIGFjdGlvbjogJ2NvbXBsZXRlJywKICAgICAgfQogICAgfTsKICB9CgogIGZvciAoY29uc3QgZmlsZSBvZiBmaWxlcykgewogICAgY29uc3QgbGkgPSBkb2N1bWVudC5jcmVhdGVFbGVtZW50KCdsaScpOwogICAgbGkuYXBwZW5kKHNwYW4oZmlsZS5uYW1lLCB7Zm9udFdlaWdodDogJ2JvbGQnfSkpOwogICAgbGkuYXBwZW5kKHNwYW4oCiAgICAgICAgYCgke2ZpbGUudHlwZSB8fCAnbi9hJ30pIC0gJHtmaWxlLnNpemV9IGJ5dGVzLCBgICsKICAgICAgICBgbGFzdCBtb2RpZmllZDogJHsKICAgICAgICAgICAgZmlsZS5sYXN0TW9kaWZpZWREYXRlID8gZmlsZS5sYXN0TW9kaWZpZWREYXRlLnRvTG9jYWxlRGF0ZVN0cmluZygpIDoKICAgICAgICAgICAgICAgICAgICAgICAgICAgICAgICAgICAgJ24vYSd9IC0gYCkpOwogICAgY29uc3QgcGVyY2VudCA9IHNwYW4oJzAlIGRvbmUnKTsKICAgIGxpLmFwcGVuZENoaWxkKHBlcmNlbnQpOwoKICAgIG91dHB1dEVsZW1lbnQuYXBwZW5kQ2hpbGQobGkpOwoKICAgIGNvbnN0IGZpbGVEYXRhUHJvbWlzZSA9IG5ldyBQcm9taXNlKChyZXNvbHZlKSA9PiB7CiAgICAgIGNvbnN0IHJlYWRlciA9IG5ldyBGaWxlUmVhZGVyKCk7CiAgICAgIHJlYWRlci5vbmxvYWQgPSAoZSkgPT4gewogICAgICAgIHJlc29sdmUoZS50YXJnZXQucmVzdWx0KTsKICAgICAgfTsKICAgICAgcmVhZGVyLnJlYWRBc0FycmF5QnVmZmVyKGZpbGUpOwogICAgfSk7CiAgICAvLyBXYWl0IGZvciB0aGUgZGF0YSB0byBiZSByZWFkeS4KICAgIGxldCBmaWxlRGF0YSA9IHlpZWxkIHsKICAgICAgcHJvbWlzZTogZmlsZURhdGFQcm9taXNlLAogICAgICByZXNwb25zZTogewogICAgICAgIGFjdGlvbjogJ2NvbnRpbnVlJywKICAgICAgfQogICAgfTsKCiAgICAvLyBVc2UgYSBjaHVua2VkIHNlbmRpbmcgdG8gYXZvaWQgbWVzc2FnZSBzaXplIGxpbWl0cy4gU2VlIGIvNjIxMTU2NjAuCiAgICBsZXQgcG9zaXRpb24gPSAwOwogICAgZG8gewogICAgICBjb25zdCBsZW5ndGggPSBNYXRoLm1pbihmaWxlRGF0YS5ieXRlTGVuZ3RoIC0gcG9zaXRpb24sIE1BWF9QQVlMT0FEX1NJWkUpOwogICAgICBjb25zdCBjaHVuayA9IG5ldyBVaW50OEFycmF5KGZpbGVEYXRhLCBwb3NpdGlvbiwgbGVuZ3RoKTsKICAgICAgcG9zaXRpb24gKz0gbGVuZ3RoOwoKICAgICAgY29uc3QgYmFzZTY0ID0gYnRvYShTdHJpbmcuZnJvbUNoYXJDb2RlLmFwcGx5KG51bGwsIGNodW5rKSk7CiAgICAgIHlpZWxkIHsKICAgICAgICByZXNwb25zZTogewogICAgICAgICAgYWN0aW9uOiAnYXBwZW5kJywKICAgICAgICAgIGZpbGU6IGZpbGUubmFtZSwKICAgICAgICAgIGRhdGE6IGJhc2U2NCwKICAgICAgICB9LAogICAgICB9OwoKICAgICAgbGV0IHBlcmNlbnREb25lID0gZmlsZURhdGEuYnl0ZUxlbmd0aCA9PT0gMCA/CiAgICAgICAgICAxMDAgOgogICAgICAgICAgTWF0aC5yb3VuZCgocG9zaXRpb24gLyBmaWxlRGF0YS5ieXRlTGVuZ3RoKSAqIDEwMCk7CiAgICAgIHBlcmNlbnQudGV4dENvbnRlbnQgPSBgJHtwZXJjZW50RG9uZX0lIGRvbmVgOwoKICAgIH0gd2hpbGUgKHBvc2l0aW9uIDwgZmlsZURhdGEuYnl0ZUxlbmd0aCk7CiAgfQoKICAvLyBBbGwgZG9uZS4KICB5aWVsZCB7CiAgICByZXNwb25zZTogewogICAgICBhY3Rpb246ICdjb21wbGV0ZScsCiAgICB9CiAgfTsKfQoKc2NvcGUuZ29vZ2xlID0gc2NvcGUuZ29vZ2xlIHx8IHt9OwpzY29wZS5nb29nbGUuY29sYWIgPSBzY29wZS5nb29nbGUuY29sYWIgfHwge307CnNjb3BlLmdvb2dsZS5jb2xhYi5fZmlsZXMgPSB7CiAgX3VwbG9hZEZpbGVzLAogIF91cGxvYWRGaWxlc0NvbnRpbnVlLAp9Owp9KShzZWxmKTsK",
              "ok": true,
              "headers": [
                [
                  "content-type",
                  "application/javascript"
                ]
              ],
              "status": 200,
              "status_text": ""
            }
          },
          "base_uri": "https://localhost:8080/",
          "height": 90
        },
        "outputId": "23ffe5c5-78fd-4cbc-d317-f3a15b0f9e03"
      },
      "execution_count": null,
      "outputs": [
        {
          "output_type": "display_data",
          "data": {
            "text/plain": [
              "<IPython.core.display.HTML object>"
            ],
            "text/html": [
              "\n",
              "     <input type=\"file\" id=\"files-412c7ea6-7b9b-4fe8-b581-77dfda04b6d1\" name=\"files[]\" multiple disabled\n",
              "        style=\"border:none\" />\n",
              "     <output id=\"result-412c7ea6-7b9b-4fe8-b581-77dfda04b6d1\">\n",
              "      Upload widget is only available when the cell has been executed in the\n",
              "      current browser session. Please rerun this cell to enable.\n",
              "      </output>\n",
              "      <script src=\"/nbextensions/google.colab/files.js\"></script> "
            ]
          },
          "metadata": {}
        },
        {
          "output_type": "stream",
          "name": "stdout",
          "text": [
            "Saving corrupted.csv to corrupted.csv\n",
            "User uploaded file \"corrupted.csv\" with length 45787 bytes\n"
          ]
        }
      ]
    },
    {
      "cell_type": "code",
      "source": [
        "# Test the function on a corrupted NPS file:\n",
        "print(check_csv('corrupted.csv'))"
      ],
      "metadata": {
        "id": "JeffSPgSO4CE",
        "colab": {
          "base_uri": "https://localhost:8080/"
        },
        "outputId": "a9e1eb34-4755-4cec-bfde-76774d095532"
      },
      "execution_count": null,
      "outputs": [
        {
          "output_type": "stream",
          "name": "stdout",
          "text": [
            "False\n"
          ]
        }
      ]
    },
    {
      "cell_type": "markdown",
      "source": [
        "## 3. Использование вложенных функций\n",
        "<p>\n",
        "Хорошо, теперь у нас есть одна функция, которая проверяет правильность файлов CSV, и другая, которая преобразует их в формат DataFrame, необходимый Бренде. Что осталось? Глядя на сценарий, это последняя строка, которую мы не рассмотрели: <code>q4_nps = pd.concat([email,mobile,web])</code>. Мы могли бы использовать эту строку кода, но мы увидим больше повторений кода, если получим файлы CSV из других источников или периодов времени.</p>\n",
        "<p>Чтобы наш код был масштабируемым, мы напишем функцию <code>combine_nps_csvs()</code>, которая принимает словарь. В словарях Python есть пары ключ:значение. В нашем случае имя CSV и тип источника будут ключом и значением соответственно. Таким образом, мы можем определить словарь с любым количеством файлов NPS и запустить его с помощью <code>combine_nps_csvs()</code>. Для каждого файла мы проверим, что он действителен, используя <code>check_csv()</code>, и если это так, мы будем использовать <code>convert_csv_to_df()</code>, чтобы преобразовать его в DataFrame. В начале функции мы определим пустой DataFrame с именем <code>combined</code>, и каждый раз, когда CSV будет успешно преобразован, мы будем объединять его в <code>combined</code>.</p>"
      ],
      "metadata": {
        "dc": {
          "key": "17"
        },
        "deletable": false,
        "editable": false,
        "run_control": {
          "frozen": true
        },
        "tags": [
          "context"
        ],
        "id": "z3Tb0nm6G-jA"
      }
    },
    {
      "cell_type": "code",
      "execution_count": null,
      "source": [
        "def combine_nps_csvs(csvs_dict):\n",
        "    # Define combine as an empty DataFrame:\n",
        "    combined = pd.DataFrame()\n",
        "\n",
        "    # Iterate over csvs_dict to get the name and source of the CSVs:\n",
        "    for name, source in csvs_dict.items():\n",
        "        # Check if the csv is valid:\n",
        "        if check_csv(name):\n",
        "            # Convert the CSV using convert_csv_to_df():\n",
        "            temp = convert_csv_to_df(name, source)\n",
        "            # Concatenate combined and temp:\n",
        "            combined = pd.concat([combined, temp])\n",
        "\n",
        "        # If the file is not valid, print a message with the CSV's name:\n",
        "        else:\n",
        "            print(name + \" is not a valid file and will not be added.\")\n",
        "\n",
        "    # Return the combined DataFrame\n",
        "    return combined"
      ],
      "outputs": [],
      "metadata": {
        "dc": {
          "key": "17"
        },
        "tags": [
          "sample_code"
        ],
        "id": "D_yG-L_LG-jB"
      }
    },
    {
      "cell_type": "code",
      "source": [
        "from google.colab import files\n",
        "\n",
        "uploaded = files.upload()\n",
        "\n",
        "for fn in uploaded.keys():\n",
        "  print('User uploaded file \"{name}\" with length {length} bytes'.format(\n",
        "      name=fn, length=len(uploaded[fn])))"
      ],
      "metadata": {
        "id": "wJBJQwf44EIY",
        "colab": {
          "resources": {
            "http://localhost:8080/nbextensions/google.colab/files.js": {
              "data": "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",
              "ok": true,
              "headers": [
                [
                  "content-type",
                  "application/javascript"
                ]
              ],
              "status": 200,
              "status_text": ""
            }
          },
          "base_uri": "https://localhost:8080/",
          "height": 247
        },
        "outputId": "373e9d03-d23e-4594-c717-4b15bf79c5ac"
      },
      "execution_count": null,
      "outputs": [
        {
          "output_type": "display_data",
          "data": {
            "text/plain": [
              "<IPython.core.display.HTML object>"
            ],
            "text/html": [
              "\n",
              "     <input type=\"file\" id=\"files-4c65d845-6a91-4d87-9cf2-eaa660b2ff16\" name=\"files[]\" multiple disabled\n",
              "        style=\"border:none\" />\n",
              "     <output id=\"result-4c65d845-6a91-4d87-9cf2-eaa660b2ff16\">\n",
              "      Upload widget is only available when the cell has been executed in the\n",
              "      current browser session. Please rerun this cell to enable.\n",
              "      </output>\n",
              "      <script src=\"/nbextensions/google.colab/files.js\"></script> "
            ]
          },
          "metadata": {}
        },
        {
          "output_type": "stream",
          "name": "stdout",
          "text": [
            "Saving 2020Q4_nps_email.csv to 2020Q4_nps_email.csv\n",
            "Saving 2020Q4_nps_mobile.csv to 2020Q4_nps_mobile (1).csv\n",
            "Saving 2020Q4_nps_web.csv to 2020Q4_nps_web.csv\n",
            "Saving corrupted.csv to corrupted (1).csv\n",
            "User uploaded file \"2020Q4_nps_email.csv\" with length 37531 bytes\n",
            "User uploaded file \"2020Q4_nps_mobile.csv\" with length 34419 bytes\n",
            "User uploaded file \"2020Q4_nps_web.csv\" with length 44042 bytes\n",
            "User uploaded file \"corrupted.csv\" with length 45787 bytes\n"
          ]
        }
      ]
    },
    {
      "cell_type": "code",
      "source": [
        "my_files = {\n",
        "  \"2020Q4_nps_email.csv\": \"email\",\n",
        "  \"2020Q4_nps_mobile.csv\": \"mobile\",\n",
        "  \"2020Q4_nps_web.csv\": \"web\",\n",
        "  \"corrupted.csv\": \"social_media\"\n",
        "}\n",
        "\n",
        "# Test the function on the my_files dictionary:\n",
        "combine_nps_csvs(my_files)"
      ],
      "metadata": {
        "id": "5JhOsOeL4Aik",
        "colab": {
          "base_uri": "https://localhost:8080/",
          "height": 441
        },
        "outputId": "83a3188b-0d39-4318-ff3d-56cf0229c05d"
      },
      "execution_count": null,
      "outputs": [
        {
          "output_type": "stream",
          "name": "stdout",
          "text": [
            "corrupted.csv is not a valid file and will not be added.\n"
          ]
        },
        {
          "output_type": "execute_result",
          "data": {
            "text/plain": [
              "     response_date  user_id  nps_rating source\n",
              "0       2020-11-06    11037           7  email\n",
              "1       2020-12-24    34434           9  email\n",
              "2       2020-12-03    49547           8  email\n",
              "3       2020-10-04    13821           7  email\n",
              "4       2020-10-23    29407           9  email\n",
              "...            ...      ...         ...    ...\n",
              "2285    2020-12-25    10656           8    web\n",
              "2286    2020-11-07    32918          10    web\n",
              "2287    2020-10-16    15667          10    web\n",
              "2288    2020-11-20    47153           7    web\n",
              "2289    2020-10-17    47071           5    web\n",
              "\n",
              "[6043 rows x 4 columns]"
            ],
            "text/html": [
              "\n",
              "  <div id=\"df-213bd044-a78b-4888-81eb-8b4834bbcf78\">\n",
              "    <div class=\"colab-df-container\">\n",
              "      <div>\n",
              "<style scoped>\n",
              "    .dataframe tbody tr th:only-of-type {\n",
              "        vertical-align: middle;\n",
              "    }\n",
              "\n",
              "    .dataframe tbody tr th {\n",
              "        vertical-align: top;\n",
              "    }\n",
              "\n",
              "    .dataframe thead th {\n",
              "        text-align: right;\n",
              "    }\n",
              "</style>\n",
              "<table border=\"1\" class=\"dataframe\">\n",
              "  <thead>\n",
              "    <tr style=\"text-align: right;\">\n",
              "      <th></th>\n",
              "      <th>response_date</th>\n",
              "      <th>user_id</th>\n",
              "      <th>nps_rating</th>\n",
              "      <th>source</th>\n",
              "    </tr>\n",
              "  </thead>\n",
              "  <tbody>\n",
              "    <tr>\n",
              "      <th>0</th>\n",
              "      <td>2020-11-06</td>\n",
              "      <td>11037</td>\n",
              "      <td>7</td>\n",
              "      <td>email</td>\n",
              "    </tr>\n",
              "    <tr>\n",
              "      <th>1</th>\n",
              "      <td>2020-12-24</td>\n",
              "      <td>34434</td>\n",
              "      <td>9</td>\n",
              "      <td>email</td>\n",
              "    </tr>\n",
              "    <tr>\n",
              "      <th>2</th>\n",
              "      <td>2020-12-03</td>\n",
              "      <td>49547</td>\n",
              "      <td>8</td>\n",
              "      <td>email</td>\n",
              "    </tr>\n",
              "    <tr>\n",
              "      <th>3</th>\n",
              "      <td>2020-10-04</td>\n",
              "      <td>13821</td>\n",
              "      <td>7</td>\n",
              "      <td>email</td>\n",
              "    </tr>\n",
              "    <tr>\n",
              "      <th>4</th>\n",
              "      <td>2020-10-23</td>\n",
              "      <td>29407</td>\n",
              "      <td>9</td>\n",
              "      <td>email</td>\n",
              "    </tr>\n",
              "    <tr>\n",
              "      <th>...</th>\n",
              "      <td>...</td>\n",
              "      <td>...</td>\n",
              "      <td>...</td>\n",
              "      <td>...</td>\n",
              "    </tr>\n",
              "    <tr>\n",
              "      <th>2285</th>\n",
              "      <td>2020-12-25</td>\n",
              "      <td>10656</td>\n",
              "      <td>8</td>\n",
              "      <td>web</td>\n",
              "    </tr>\n",
              "    <tr>\n",
              "      <th>2286</th>\n",
              "      <td>2020-11-07</td>\n",
              "      <td>32918</td>\n",
              "      <td>10</td>\n",
              "      <td>web</td>\n",
              "    </tr>\n",
              "    <tr>\n",
              "      <th>2287</th>\n",
              "      <td>2020-10-16</td>\n",
              "      <td>15667</td>\n",
              "      <td>10</td>\n",
              "      <td>web</td>\n",
              "    </tr>\n",
              "    <tr>\n",
              "      <th>2288</th>\n",
              "      <td>2020-11-20</td>\n",
              "      <td>47153</td>\n",
              "      <td>7</td>\n",
              "      <td>web</td>\n",
              "    </tr>\n",
              "    <tr>\n",
              "      <th>2289</th>\n",
              "      <td>2020-10-17</td>\n",
              "      <td>47071</td>\n",
              "      <td>5</td>\n",
              "      <td>web</td>\n",
              "    </tr>\n",
              "  </tbody>\n",
              "</table>\n",
              "<p>6043 rows × 4 columns</p>\n",
              "</div>\n",
              "      <button class=\"colab-df-convert\" onclick=\"convertToInteractive('df-213bd044-a78b-4888-81eb-8b4834bbcf78')\"\n",
              "              title=\"Convert this dataframe to an interactive table.\"\n",
              "              style=\"display:none;\">\n",
              "        \n",
              "  <svg xmlns=\"http://www.w3.org/2000/svg\" height=\"24px\"viewBox=\"0 0 24 24\"\n",
              "       width=\"24px\">\n",
              "    <path d=\"M0 0h24v24H0V0z\" fill=\"none\"/>\n",
              "    <path d=\"M18.56 5.44l.94 2.06.94-2.06 2.06-.94-2.06-.94-.94-2.06-.94 2.06-2.06.94zm-11 1L8.5 8.5l.94-2.06 2.06-.94-2.06-.94L8.5 2.5l-.94 2.06-2.06.94zm10 10l.94 2.06.94-2.06 2.06-.94-2.06-.94-.94-2.06-.94 2.06-2.06.94z\"/><path d=\"M17.41 7.96l-1.37-1.37c-.4-.4-.92-.59-1.43-.59-.52 0-1.04.2-1.43.59L10.3 9.45l-7.72 7.72c-.78.78-.78 2.05 0 2.83L4 21.41c.39.39.9.59 1.41.59.51 0 1.02-.2 1.41-.59l7.78-7.78 2.81-2.81c.8-.78.8-2.07 0-2.86zM5.41 20L4 18.59l7.72-7.72 1.47 1.35L5.41 20z\"/>\n",
              "  </svg>\n",
              "      </button>\n",
              "      \n",
              "  <style>\n",
              "    .colab-df-container {\n",
              "      display:flex;\n",
              "      flex-wrap:wrap;\n",
              "      gap: 12px;\n",
              "    }\n",
              "\n",
              "    .colab-df-convert {\n",
              "      background-color: #E8F0FE;\n",
              "      border: none;\n",
              "      border-radius: 50%;\n",
              "      cursor: pointer;\n",
              "      display: none;\n",
              "      fill: #1967D2;\n",
              "      height: 32px;\n",
              "      padding: 0 0 0 0;\n",
              "      width: 32px;\n",
              "    }\n",
              "\n",
              "    .colab-df-convert:hover {\n",
              "      background-color: #E2EBFA;\n",
              "      box-shadow: 0px 1px 2px rgba(60, 64, 67, 0.3), 0px 1px 3px 1px rgba(60, 64, 67, 0.15);\n",
              "      fill: #174EA6;\n",
              "    }\n",
              "\n",
              "    [theme=dark] .colab-df-convert {\n",
              "      background-color: #3B4455;\n",
              "      fill: #D2E3FC;\n",
              "    }\n",
              "\n",
              "    [theme=dark] .colab-df-convert:hover {\n",
              "      background-color: #434B5C;\n",
              "      box-shadow: 0px 1px 3px 1px rgba(0, 0, 0, 0.15);\n",
              "      filter: drop-shadow(0px 1px 2px rgba(0, 0, 0, 0.3));\n",
              "      fill: #FFFFFF;\n",
              "    }\n",
              "  </style>\n",
              "\n",
              "      <script>\n",
              "        const buttonEl =\n",
              "          document.querySelector('#df-213bd044-a78b-4888-81eb-8b4834bbcf78 button.colab-df-convert');\n",
              "        buttonEl.style.display =\n",
              "          google.colab.kernel.accessAllowed ? 'block' : 'none';\n",
              "\n",
              "        async function convertToInteractive(key) {\n",
              "          const element = document.querySelector('#df-213bd044-a78b-4888-81eb-8b4834bbcf78');\n",
              "          const dataTable =\n",
              "            await google.colab.kernel.invokeFunction('convertToInteractive',\n",
              "                                                     [key], {});\n",
              "          if (!dataTable) return;\n",
              "\n",
              "          const docLinkHtml = 'Like what you see? Visit the ' +\n",
              "            '<a target=\"_blank\" href=https://colab.research.google.com/notebooks/data_table.ipynb>data table notebook</a>'\n",
              "            + ' to learn more about interactive tables.';\n",
              "          element.innerHTML = '';\n",
              "          dataTable['output_type'] = 'display_data';\n",
              "          await google.colab.output.renderOutput(dataTable, element);\n",
              "          const docLink = document.createElement('div');\n",
              "          docLink.innerHTML = docLinkHtml;\n",
              "          element.appendChild(docLink);\n",
              "        }\n",
              "      </script>\n",
              "    </div>\n",
              "  </div>\n",
              "  "
            ]
          },
          "metadata": {},
          "execution_count": 9
        }
      ]
    },
    {
      "cell_type": "markdown",
      "source": [
        "---\n",
        "## 4. Детрактор, нейтралы и промоутеры\n",
        "<p>\n",
        "Объединим скрипт в одну функцию: <code>combine_nps_csvs()</code>! Перейдем к анализу данных NPS, например, к фактическому расчету NPS. Он работает, задавая вопрос \n",
        "\n",
        "<em>Насколько вероятно, что вы порекомендуете наш продукт другу или коллеге?</em> со шкалой оценки от 0 до 10.</p>\n",
        "\n",
        "<p>Рейтинги NPS делятся на три группы. Оценки от 0 до 6 – <strong>детрактор</strong>, оценки от 7 до 8 – <strong>нейтралы</strong>, и, наконец, оценки от 9 до 10 – <strong>промоутеры</strong>. Анализ NPS — это еще не все, но помните, что функции должны быть небольшими по объему и должны «делать только одно действие». Итак, напишем простую функцию, которая берет рейтинг NPS и классифицирует его в соответствующую группу.</p>"
      ],
      "metadata": {
        "dc": {
          "key": "24"
        },
        "deletable": false,
        "editable": false,
        "run_control": {
          "frozen": true
        },
        "tags": [
          "context"
        ],
        "id": "3fJZysSBG-jB"
      }
    },
    {
      "cell_type": "code",
      "execution_count": null,
      "source": [
        "def categorize_nps(x):\n",
        "    \"\"\" \n",
        "    Takes a NPS rating and outputs whether it is a \"promoter\", \n",
        "    \"passive\", \"detractor\", or \"invalid\" rating. \"invalid\" is\n",
        "    returned when the rating is not between 0-10.\n",
        "\n",
        "    Args:\n",
        "        x: The NPS rating\n",
        "\n",
        "    Returns:\n",
        "        String: the NPS category or \"invalid\".\n",
        "    \"\"\"\n",
        "    if (x >= 0 and x <= 6):\n",
        "        return 'detractor'\n",
        "    elif (x >= 7 and x <= 8):\n",
        "        return 'passive'\n",
        "    elif (x >= 9 and x <= 10):\n",
        "        return 'promoter'\n",
        "\n",
        "    return 'invalid'\n",
        "\n",
        "\n",
        "# Test our function:\n",
        "categorize_nps(8)"
      ],
      "outputs": [
        {
          "output_type": "execute_result",
          "data": {
            "text/plain": [
              "'passive'"
            ],
            "application/vnd.google.colaboratory.intrinsic+json": {
              "type": "string"
            }
          },
          "metadata": {},
          "execution_count": 10
        }
      ],
      "metadata": {
        "dc": {
          "key": "24"
        },
        "tags": [
          "sample_code"
        ],
        "colab": {
          "base_uri": "https://localhost:8080/",
          "height": 35
        },
        "id": "SDy_t1KlG-jC",
        "outputId": "481f1907-6958-4e2f-c7d5-3c279fe12907"
      }
    },
    {
      "cell_type": "markdown",
      "source": [
        "## 5. Применение полученной функции к DataFrame\n",
        "<p>Итак, у нас есть функция, которая получает оценку и выводит, к какой группе ответов NPS она принадлежит. Было бы здорово иметь его в качестве столбца в  DataFrame NPS, подобно столбцу <code>source</code>, который мы добавили. Поскольку мы разбили наш код на модули с помощью функций, все, что нам нужно сделать, это отредактировать нашу функцию <code>convert_cvs_to_df()</code> и вложить в нее <code>categorize_nps()</code>. Однако способ вложения <code>categorize_nps()</code> будет отличаться от предыдущего. В библиотеке <code>pandas</code> есть удобная функция <code>apply()</code>, которая позволяет нам применять функцию к каждому столбцу или строке DataFrame. </p>"
      ],
      "metadata": {
        "dc": {
          "key": "31"
        },
        "deletable": false,
        "editable": false,
        "run_control": {
          "frozen": true
        },
        "tags": [
          "context"
        ],
        "id": "DNWZmZXkG-jC"
      }
    },
    {
      "cell_type": "code",
      "execution_count": null,
      "source": [
        "def convert_csv_to_df(csv_name, source_type):    \n",
        "    \"\"\"\n",
        "    Convert an NPS CSV into a DataFrame with columns for the source and NPS group.\n",
        "\n",
        "    Args:\n",
        "        csv_name (str): The name of the NPS CSV file.\n",
        "        source_type (str): The source of the NPS responses.\n",
        "\n",
        "    Returns:\n",
        "         A DataFrame with the CSV data and columns: source and nps_group.\n",
        "    \"\"\"\n",
        "    df = pd.read_csv(csv_name)\n",
        "    df['source'] = source_type\n",
        "    # New column nps_group which applies categorize_nps to nps_rating:\n",
        "    df['nps_group'] = df['nps_rating'].apply(categorize_nps)\n",
        "    return df\n",
        "\n",
        "\n",
        "# Test the updated function with mobile data:\n",
        "convert_csv_to_df(\"2020Q4_nps_mobile.csv\", \"mobile\")"
      ],
      "outputs": [
        {
          "output_type": "execute_result",
          "data": {
            "text/plain": [
              "     response_date  user_id  nps_rating  source  nps_group\n",
              "0       2020-12-29    14178           3  mobile  detractor\n",
              "1       2020-10-29    33221           1  mobile  detractor\n",
              "2       2020-11-01    21127          10  mobile   promoter\n",
              "3       2020-12-07    42894           3  mobile  detractor\n",
              "4       2020-11-26    30501           5  mobile  detractor\n",
              "...            ...      ...         ...     ...        ...\n",
              "1796    2020-12-29    49529           3  mobile  detractor\n",
              "1797    2020-12-24    23671           7  mobile    passive\n",
              "1798    2020-11-28    39954           7  mobile    passive\n",
              "1799    2020-12-19    21098           7  mobile    passive\n",
              "1800    2020-12-23    14919           7  mobile    passive\n",
              "\n",
              "[1801 rows x 5 columns]"
            ],
            "text/html": [
              "\n",
              "  <div id=\"df-1f21503a-63ec-4df7-8f06-8b43c1fd4b4b\">\n",
              "    <div class=\"colab-df-container\">\n",
              "      <div>\n",
              "<style scoped>\n",
              "    .dataframe tbody tr th:only-of-type {\n",
              "        vertical-align: middle;\n",
              "    }\n",
              "\n",
              "    .dataframe tbody tr th {\n",
              "        vertical-align: top;\n",
              "    }\n",
              "\n",
              "    .dataframe thead th {\n",
              "        text-align: right;\n",
              "    }\n",
              "</style>\n",
              "<table border=\"1\" class=\"dataframe\">\n",
              "  <thead>\n",
              "    <tr style=\"text-align: right;\">\n",
              "      <th></th>\n",
              "      <th>response_date</th>\n",
              "      <th>user_id</th>\n",
              "      <th>nps_rating</th>\n",
              "      <th>source</th>\n",
              "      <th>nps_group</th>\n",
              "    </tr>\n",
              "  </thead>\n",
              "  <tbody>\n",
              "    <tr>\n",
              "      <th>0</th>\n",
              "      <td>2020-12-29</td>\n",
              "      <td>14178</td>\n",
              "      <td>3</td>\n",
              "      <td>mobile</td>\n",
              "      <td>detractor</td>\n",
              "    </tr>\n",
              "    <tr>\n",
              "      <th>1</th>\n",
              "      <td>2020-10-29</td>\n",
              "      <td>33221</td>\n",
              "      <td>1</td>\n",
              "      <td>mobile</td>\n",
              "      <td>detractor</td>\n",
              "    </tr>\n",
              "    <tr>\n",
              "      <th>2</th>\n",
              "      <td>2020-11-01</td>\n",
              "      <td>21127</td>\n",
              "      <td>10</td>\n",
              "      <td>mobile</td>\n",
              "      <td>promoter</td>\n",
              "    </tr>\n",
              "    <tr>\n",
              "      <th>3</th>\n",
              "      <td>2020-12-07</td>\n",
              "      <td>42894</td>\n",
              "      <td>3</td>\n",
              "      <td>mobile</td>\n",
              "      <td>detractor</td>\n",
              "    </tr>\n",
              "    <tr>\n",
              "      <th>4</th>\n",
              "      <td>2020-11-26</td>\n",
              "      <td>30501</td>\n",
              "      <td>5</td>\n",
              "      <td>mobile</td>\n",
              "      <td>detractor</td>\n",
              "    </tr>\n",
              "    <tr>\n",
              "      <th>...</th>\n",
              "      <td>...</td>\n",
              "      <td>...</td>\n",
              "      <td>...</td>\n",
              "      <td>...</td>\n",
              "      <td>...</td>\n",
              "    </tr>\n",
              "    <tr>\n",
              "      <th>1796</th>\n",
              "      <td>2020-12-29</td>\n",
              "      <td>49529</td>\n",
              "      <td>3</td>\n",
              "      <td>mobile</td>\n",
              "      <td>detractor</td>\n",
              "    </tr>\n",
              "    <tr>\n",
              "      <th>1797</th>\n",
              "      <td>2020-12-24</td>\n",
              "      <td>23671</td>\n",
              "      <td>7</td>\n",
              "      <td>mobile</td>\n",
              "      <td>passive</td>\n",
              "    </tr>\n",
              "    <tr>\n",
              "      <th>1798</th>\n",
              "      <td>2020-11-28</td>\n",
              "      <td>39954</td>\n",
              "      <td>7</td>\n",
              "      <td>mobile</td>\n",
              "      <td>passive</td>\n",
              "    </tr>\n",
              "    <tr>\n",
              "      <th>1799</th>\n",
              "      <td>2020-12-19</td>\n",
              "      <td>21098</td>\n",
              "      <td>7</td>\n",
              "      <td>mobile</td>\n",
              "      <td>passive</td>\n",
              "    </tr>\n",
              "    <tr>\n",
              "      <th>1800</th>\n",
              "      <td>2020-12-23</td>\n",
              "      <td>14919</td>\n",
              "      <td>7</td>\n",
              "      <td>mobile</td>\n",
              "      <td>passive</td>\n",
              "    </tr>\n",
              "  </tbody>\n",
              "</table>\n",
              "<p>1801 rows × 5 columns</p>\n",
              "</div>\n",
              "      <button class=\"colab-df-convert\" onclick=\"convertToInteractive('df-1f21503a-63ec-4df7-8f06-8b43c1fd4b4b')\"\n",
              "              title=\"Convert this dataframe to an interactive table.\"\n",
              "              style=\"display:none;\">\n",
              "        \n",
              "  <svg xmlns=\"http://www.w3.org/2000/svg\" height=\"24px\"viewBox=\"0 0 24 24\"\n",
              "       width=\"24px\">\n",
              "    <path d=\"M0 0h24v24H0V0z\" fill=\"none\"/>\n",
              "    <path d=\"M18.56 5.44l.94 2.06.94-2.06 2.06-.94-2.06-.94-.94-2.06-.94 2.06-2.06.94zm-11 1L8.5 8.5l.94-2.06 2.06-.94-2.06-.94L8.5 2.5l-.94 2.06-2.06.94zm10 10l.94 2.06.94-2.06 2.06-.94-2.06-.94-.94-2.06-.94 2.06-2.06.94z\"/><path d=\"M17.41 7.96l-1.37-1.37c-.4-.4-.92-.59-1.43-.59-.52 0-1.04.2-1.43.59L10.3 9.45l-7.72 7.72c-.78.78-.78 2.05 0 2.83L4 21.41c.39.39.9.59 1.41.59.51 0 1.02-.2 1.41-.59l7.78-7.78 2.81-2.81c.8-.78.8-2.07 0-2.86zM5.41 20L4 18.59l7.72-7.72 1.47 1.35L5.41 20z\"/>\n",
              "  </svg>\n",
              "      </button>\n",
              "      \n",
              "  <style>\n",
              "    .colab-df-container {\n",
              "      display:flex;\n",
              "      flex-wrap:wrap;\n",
              "      gap: 12px;\n",
              "    }\n",
              "\n",
              "    .colab-df-convert {\n",
              "      background-color: #E8F0FE;\n",
              "      border: none;\n",
              "      border-radius: 50%;\n",
              "      cursor: pointer;\n",
              "      display: none;\n",
              "      fill: #1967D2;\n",
              "      height: 32px;\n",
              "      padding: 0 0 0 0;\n",
              "      width: 32px;\n",
              "    }\n",
              "\n",
              "    .colab-df-convert:hover {\n",
              "      background-color: #E2EBFA;\n",
              "      box-shadow: 0px 1px 2px rgba(60, 64, 67, 0.3), 0px 1px 3px 1px rgba(60, 64, 67, 0.15);\n",
              "      fill: #174EA6;\n",
              "    }\n",
              "\n",
              "    [theme=dark] .colab-df-convert {\n",
              "      background-color: #3B4455;\n",
              "      fill: #D2E3FC;\n",
              "    }\n",
              "\n",
              "    [theme=dark] .colab-df-convert:hover {\n",
              "      background-color: #434B5C;\n",
              "      box-shadow: 0px 1px 3px 1px rgba(0, 0, 0, 0.15);\n",
              "      filter: drop-shadow(0px 1px 2px rgba(0, 0, 0, 0.3));\n",
              "      fill: #FFFFFF;\n",
              "    }\n",
              "  </style>\n",
              "\n",
              "      <script>\n",
              "        const buttonEl =\n",
              "          document.querySelector('#df-1f21503a-63ec-4df7-8f06-8b43c1fd4b4b button.colab-df-convert');\n",
              "        buttonEl.style.display =\n",
              "          google.colab.kernel.accessAllowed ? 'block' : 'none';\n",
              "\n",
              "        async function convertToInteractive(key) {\n",
              "          const element = document.querySelector('#df-1f21503a-63ec-4df7-8f06-8b43c1fd4b4b');\n",
              "          const dataTable =\n",
              "            await google.colab.kernel.invokeFunction('convertToInteractive',\n",
              "                                                     [key], {});\n",
              "          if (!dataTable) return;\n",
              "\n",
              "          const docLinkHtml = 'Like what you see? Visit the ' +\n",
              "            '<a target=\"_blank\" href=https://colab.research.google.com/notebooks/data_table.ipynb>data table notebook</a>'\n",
              "            + ' to learn more about interactive tables.';\n",
              "          element.innerHTML = '';\n",
              "          dataTable['output_type'] = 'display_data';\n",
              "          await google.colab.output.renderOutput(dataTable, element);\n",
              "          const docLink = document.createElement('div');\n",
              "          docLink.innerHTML = docLinkHtml;\n",
              "          element.appendChild(docLink);\n",
              "        }\n",
              "      </script>\n",
              "    </div>\n",
              "  </div>\n",
              "  "
            ]
          },
          "metadata": {},
          "execution_count": 11
        }
      ],
      "metadata": {
        "dc": {
          "key": "31"
        },
        "tags": [
          "sample_code"
        ],
        "id": "QUw7l0z3G-jD",
        "outputId": "a8977c95-9f19-420b-bfed-da5870a89027",
        "colab": {
          "base_uri": "https://localhost:8080/",
          "height": 424
        }
      }
    },
    {
      "cell_type": "markdown",
      "source": [
        "---\n",
        "## 6. Расчет Net Promoter Score\n",
        "<p>\n",
        "Если бы мы не разбили наш код на функции раньше, нам пришлось бы отредактировать наш код в нескольких местах, чтобы добавить столбец <code>nps_group</code>, что увеличило вероятность появления ошибок. Также помогает то, что наши функции обеспечивают гибкость кода, упрощения редактирования и отладки.</p>\n",
        "<p>Теперь мы можем рассчитать Net Promoter Score! Это рассчитывается путем вычитания процента оценок детракторов из процента оценок промоутеров, другими словами:</p>\n",
        "$$ NPS = \\frac{\\text{# рейтинг промоутера - # рейтинг детрактора}}{\\text{общее количество респондентов}} * 100 $$\n",
        "<p>Мы хотим рассчитать NPS для всех источников, поэтому воспользуемся <code>combine_nps_csvs()</code> из задачи 3, чтобы объединить исходные файлы. Как и ожидалось, это выведет DataFrame, который мы будем использовать в качестве входных данных для новой функции, которую мы собираемся написать, <code>calculate_nps()</code>. </p>"
      ],
      "metadata": {
        "dc": {
          "key": "38"
        },
        "deletable": false,
        "editable": false,
        "run_control": {
          "frozen": true
        },
        "tags": [
          "context"
        ],
        "id": "PFgDQwZrG-jD"
      }
    },
    {
      "cell_type": "code",
      "execution_count": null,
      "source": [
        "def calculate_nps(dataframe):\n",
        "    # Calculate the NPS score using the nps_group column \n",
        "    counts = dataframe['nps_group'].value_counts()\n",
        "    detract = counts['detractor']\n",
        "    promo = counts['promoter']\n",
        "    \n",
        "    # Return the NPS Score:\n",
        "    return ((promo-detract)/ counts.sum()) * 100\n",
        "\n",
        "\n",
        "my_files = {\n",
        "  \"2020Q4_nps_email.csv\": \"email\",\n",
        "  \"2020Q4_nps_web.csv\": \"web\",\n",
        "  \"2020Q4_nps_mobile.csv\": \"mobile\",\n",
        "}\n",
        "\n",
        "\n",
        "# Test the function on the my_files dictionary:\n",
        "q4_nps = combine_nps_csvs(my_files)\n",
        "calculate_nps(q4_nps)"
      ],
      "outputs": [
        {
          "output_type": "execute_result",
          "data": {
            "text/plain": [
              "9.995035578355122"
            ]
          },
          "metadata": {},
          "execution_count": 12
        }
      ],
      "metadata": {
        "dc": {
          "key": "38"
        },
        "tags": [
          "sample_code"
        ],
        "id": "rIOF_xMPG-jD",
        "outputId": "4d6ee154-c715-4fe3-c1af-692fedc87e56",
        "colab": {
          "base_uri": "https://localhost:8080/"
        }
      }
    },
    {
      "cell_type": "markdown",
      "source": [
        "## 7. Разбивка NPS по источникам\n",
        "<p>\n",
        "Хорошо ли иметь показатель NPS около 10? Наихудший показатель NPS, который вы можете получить, составляет -100, если все респонденты являются критиками, а лучший — 100, когда все респонденты являются сторонниками. В зависимости от отрасли вашей услуги или продукта средние показатели NPS сильно различаются. Однако отрицательный результат — плохой знак, потому что это означает, что у вас больше недовольных клиентов, чем довольных. Как правило, оценка выше 50 считается отличной, а выше 75 – лучшей в своем классе.</p>\n",
        "<p>Несмотря на то, что наша оценка выше 0, она по-прежнему находится в нижней части спектра. Команда разработчиков пришла к выводу, что существенное увеличение NPS для нашей клиентской базы является приоритетом. К счастью, у нас есть данные NPS, которые мы можем проанализировать и найти решения. Хорошим началом будет разбивка показателя NPS по типу источника. Например, если люди оценивают сайт в Интернете ниже, чем на мобильных устройствах, это свидетельствует о том, что нам нужно улучшить работу навигации сайта.</p>"
      ],
      "metadata": {
        "dc": {
          "key": "45"
        },
        "deletable": false,
        "editable": false,
        "run_control": {
          "frozen": true
        },
        "tags": [
          "context"
        ],
        "id": "uq8_9cJ7G-jE"
      }
    },
    {
      "cell_type": "code",
      "execution_count": null,
      "source": [
        "def calculate_nps_by_source(dataframe):\n",
        "    # Group the DataFrame by source and apply calculate_nps():\n",
        "    return dataframe.groupby(['source']).apply(calculate_nps)\n",
        "\n",
        "\n",
        "my_files = {\n",
        "  \"2020Q4_nps_email.csv\": \"email\",\n",
        "  \"2020Q4_nps_web.csv\": \"web\",\n",
        "  \"2020Q4_nps_mobile.csv\": \"mobile\",\n",
        "}\n",
        "\n",
        "\n",
        "# Test the function on the my_files dictionary:\n",
        "q4_nps = combine_nps_csvs(my_files)\n",
        "calculate_nps_by_source(q4_nps)"
      ],
      "outputs": [
        {
          "output_type": "execute_result",
          "data": {
            "text/plain": [
              "source\n",
              "email     18.596311\n",
              "mobile   -14.714048\n",
              "web       22.096070\n",
              "dtype: float64"
            ]
          },
          "metadata": {},
          "execution_count": 14
        }
      ],
      "metadata": {
        "dc": {
          "key": "45"
        },
        "tags": [
          "sample_code"
        ],
        "id": "NUQRDwOmG-jE",
        "outputId": "74790080-4a84-4e15-dff8-0c6d242b263b",
        "colab": {
          "base_uri": "https://localhost:8080/"
        }
      }
    },
    {
      "cell_type": "markdown",
      "source": [
        "**Самостоятельная работа**\n",
        "\n",
        "1. Реализовать графическое оформление полученных результатов  NPS методами Matplotlib.\n",
        "2. Реализовать выгрузку полученных результатов в csv или xlsx форматы.\n",
        "3. Визуализировать входные и выходные результаты в  <a href=\"https://cloud.yandex.ru/services/datalens\">Yandex DataLens</a>   и <a href=\"https://datastudio.google.com/\">Google dashboard</a>."
      ],
      "metadata": {
        "id": "f1nuhXpZ95r1"
      }
    },
    {
      "cell_type": "markdown",
      "source": [
        "**1. Реализация полученных результатов  NPS методами Matplotlib.**"
      ],
      "metadata": {
        "id": "3JmRgVotb8L3"
      }
    },
    {
      "cell_type": "code",
      "source": [
        "import matplotlib.pyplot as plt\n",
        "fig = plt.figure()\n",
        "ax = fig.add_axes([0,0,1,1])\n",
        "source = ['email', 'mobile', 'web']\n",
        "nps = [18.596311, -14.714048, 22.096070]\n",
        "ax.bar(source, nps)\n",
        "plt.show()"
      ],
      "metadata": {
        "colab": {
          "base_uri": "https://localhost:8080/",
          "height": 336
        },
        "id": "pHey4N1xTVMx",
        "outputId": "2e00cac6-7291-41e5-e3fd-f058df60a28e"
      },
      "execution_count": null,
      "outputs": [
        {
          "output_type": "display_data",
          "data": {
            "text/plain": [
              "<Figure size 432x288 with 1 Axes>"
            ],
            "image/png": "[encoded data removed]"
          },
          "metadata": {
            "needs_background": "light"
          }
        }
      ]
    },
    {
      "cell_type": "code",
      "source": [
        "df_raw = pd.read_csv(\"q4_nps.csv\")\n",
        "\n",
        "# Prepare Data\n",
        "df = df_raw.groupby('nps_group').size()\n",
        "\n",
        "# Make the plot with pandas\n",
        "df.plot(kind='pie', subplots=True, figsize=(5, 5), autopct=\"%0.2f%%\")\n",
        "plt.ylabel(\"\")\n",
        "plt.show()"
      ],
      "metadata": {
        "colab": {
          "base_uri": "https://localhost:8080/",
          "height": 303
        },
        "id": "cNKqv5hYRQd9",
        "outputId": "c646527c-5b6a-4ea7-c8ab-6f96f870cb97"
      },
      "execution_count": null,
      "outputs": [
        {
          "output_type": "display_data",
          "data": {
            "text/plain": [
              "<Figure size 360x360 with 1 Axes>"
            ],
            "image/png": "[encoded data removed]"
          },
          "metadata": {}
        }
      ]
    },
    {
      "cell_type": "markdown",
      "source": [
        "Как видно большинство людей ставят оценку выше 7."
      ],
      "metadata": {
        "id": "ni5oOjoBs6Zw"
      }
    },
    {
      "cell_type": "code",
      "source": [
        "df_raw = pd.read_csv(\"q4_nps.csv\")\n",
        "\n",
        "# Prepare Data\n",
        "df = df_raw.groupby('source').size()\n",
        "\n",
        "# Make the plot with pandas\n",
        "df.plot(kind='pie', subplots=True, figsize=(5, 5), autopct=\"%0.2f%%\")\n",
        "plt.ylabel(\"\")\n",
        "plt.show()"
      ],
      "metadata": {
        "colab": {
          "base_uri": "https://localhost:8080/",
          "height": 303
        },
        "id": "rrWioE6Qm7pL",
        "outputId": "b7e896cd-d06d-4cad-aa3e-1238b32b37a3"
      },
      "execution_count": null,
      "outputs": [
        {
          "output_type": "display_data",
          "data": {
            "text/plain": [
              "<Figure size 360x360 with 1 Axes>"
            ],
            "image/png": "[encoded data removed]"
          },
          "metadata": {}
        }
      ]
    },
    {
      "cell_type": "markdown",
      "source": [
        "Чаще всего оценка производится через сайт и меньше всего посредством мобильного приложение, которое нужно дорабатывать."
      ],
      "metadata": {
        "id": "-09TWzQ5r0Qz"
      }
    },
    {
      "cell_type": "markdown",
      "source": [
        "**2. Реализовать выгрузку полученных результатов в csv или xlsx форматы.**"
      ],
      "metadata": {
        "id": "eoCeVz65uFhH"
      }
    },
    {
      "cell_type": "code",
      "source": [
        "import numpy as np\n",
        "import pandas as pd"
      ],
      "metadata": {
        "id": "NievABKYpTcq"
      },
      "execution_count": null,
      "outputs": []
    },
    {
      "cell_type": "code",
      "source": [
        "df1 = pd.DataFrame(q4_nps)\n",
        "df1"
      ],
      "metadata": {
        "colab": {
          "base_uri": "https://localhost:8080/",
          "height": 424
        },
        "id": "BrCjBRG5VW0J",
        "outputId": "18278a7a-2b1a-4df2-bfc1-dd58fec9e8b3"
      },
      "execution_count": null,
      "outputs": [
        {
          "output_type": "execute_result",
          "data": {
            "text/plain": [
              "     response_date  user_id  nps_rating  source  nps_group\n",
              "0       2020-11-06    11037           7   email    passive\n",
              "1       2020-12-24    34434           9   email   promoter\n",
              "2       2020-12-03    49547           8   email    passive\n",
              "3       2020-10-04    13821           7   email    passive\n",
              "4       2020-10-23    29407           9   email   promoter\n",
              "...            ...      ...         ...     ...        ...\n",
              "1796    2020-12-29    49529           3  mobile  detractor\n",
              "1797    2020-12-24    23671           7  mobile    passive\n",
              "1798    2020-11-28    39954           7  mobile    passive\n",
              "1799    2020-12-19    21098           7  mobile    passive\n",
              "1800    2020-12-23    14919           7  mobile    passive\n",
              "\n",
              "[6043 rows x 5 columns]"
            ],
            "text/html": [
              "\n",
              "  <div id=\"df-7c905fd6-b0c7-4963-8dc0-471d42fe148c\">\n",
              "    <div class=\"colab-df-container\">\n",
              "      <div>\n",
              "<style scoped>\n",
              "    .dataframe tbody tr th:only-of-type {\n",
              "        vertical-align: middle;\n",
              "    }\n",
              "\n",
              "    .dataframe tbody tr th {\n",
              "        vertical-align: top;\n",
              "    }\n",
              "\n",
              "    .dataframe thead th {\n",
              "        text-align: right;\n",
              "    }\n",
              "</style>\n",
              "<table border=\"1\" class=\"dataframe\">\n",
              "  <thead>\n",
              "    <tr style=\"text-align: right;\">\n",
              "      <th></th>\n",
              "      <th>response_date</th>\n",
              "      <th>user_id</th>\n",
              "      <th>nps_rating</th>\n",
              "      <th>source</th>\n",
              "      <th>nps_group</th>\n",
              "    </tr>\n",
              "  </thead>\n",
              "  <tbody>\n",
              "    <tr>\n",
              "      <th>0</th>\n",
              "      <td>2020-11-06</td>\n",
              "      <td>11037</td>\n",
              "      <td>7</td>\n",
              "      <td>email</td>\n",
              "      <td>passive</td>\n",
              "    </tr>\n",
              "    <tr>\n",
              "      <th>1</th>\n",
              "      <td>2020-12-24</td>\n",
              "      <td>34434</td>\n",
              "      <td>9</td>\n",
              "      <td>email</td>\n",
              "      <td>promoter</td>\n",
              "    </tr>\n",
              "    <tr>\n",
              "      <th>2</th>\n",
              "      <td>2020-12-03</td>\n",
              "      <td>49547</td>\n",
              "      <td>8</td>\n",
              "      <td>email</td>\n",
              "      <td>passive</td>\n",
              "    </tr>\n",
              "    <tr>\n",
              "      <th>3</th>\n",
              "      <td>2020-10-04</td>\n",
              "      <td>13821</td>\n",
              "      <td>7</td>\n",
              "      <td>email</td>\n",
              "      <td>passive</td>\n",
              "    </tr>\n",
              "    <tr>\n",
              "      <th>4</th>\n",
              "      <td>2020-10-23</td>\n",
              "      <td>29407</td>\n",
              "      <td>9</td>\n",
              "      <td>email</td>\n",
              "      <td>promoter</td>\n",
              "    </tr>\n",
              "    <tr>\n",
              "      <th>...</th>\n",
              "      <td>...</td>\n",
              "      <td>...</td>\n",
              "      <td>...</td>\n",
              "      <td>...</td>\n",
              "      <td>...</td>\n",
              "    </tr>\n",
              "    <tr>\n",
              "      <th>1796</th>\n",
              "      <td>2020-12-29</td>\n",
              "      <td>49529</td>\n",
              "      <td>3</td>\n",
              "      <td>mobile</td>\n",
              "      <td>detractor</td>\n",
              "    </tr>\n",
              "    <tr>\n",
              "      <th>1797</th>\n",
              "      <td>2020-12-24</td>\n",
              "      <td>23671</td>\n",
              "      <td>7</td>\n",
              "      <td>mobile</td>\n",
              "      <td>passive</td>\n",
              "    </tr>\n",
              "    <tr>\n",
              "      <th>1798</th>\n",
              "      <td>2020-11-28</td>\n",
              "      <td>39954</td>\n",
              "      <td>7</td>\n",
              "      <td>mobile</td>\n",
              "      <td>passive</td>\n",
              "    </tr>\n",
              "    <tr>\n",
              "      <th>1799</th>\n",
              "      <td>2020-12-19</td>\n",
              "      <td>21098</td>\n",
              "      <td>7</td>\n",
              "      <td>mobile</td>\n",
              "      <td>passive</td>\n",
              "    </tr>\n",
              "    <tr>\n",
              "      <th>1800</th>\n",
              "      <td>2020-12-23</td>\n",
              "      <td>14919</td>\n",
              "      <td>7</td>\n",
              "      <td>mobile</td>\n",
              "      <td>passive</td>\n",
              "    </tr>\n",
              "  </tbody>\n",
              "</table>\n",
              "<p>6043 rows × 5 columns</p>\n",
              "</div>\n",
              "      <button class=\"colab-df-convert\" onclick=\"convertToInteractive('df-7c905fd6-b0c7-4963-8dc0-471d42fe148c')\"\n",
              "              title=\"Convert this dataframe to an interactive table.\"\n",
              "              style=\"display:none;\">\n",
              "        \n",
              "  <svg xmlns=\"http://www.w3.org/2000/svg\" height=\"24px\"viewBox=\"0 0 24 24\"\n",
              "       width=\"24px\">\n",
              "    <path d=\"M0 0h24v24H0V0z\" fill=\"none\"/>\n",
              "    <path d=\"M18.56 5.44l.94 2.06.94-2.06 2.06-.94-2.06-.94-.94-2.06-.94 2.06-2.06.94zm-11 1L8.5 8.5l.94-2.06 2.06-.94-2.06-.94L8.5 2.5l-.94 2.06-2.06.94zm10 10l.94 2.06.94-2.06 2.06-.94-2.06-.94-.94-2.06-.94 2.06-2.06.94z\"/><path d=\"M17.41 7.96l-1.37-1.37c-.4-.4-.92-.59-1.43-.59-.52 0-1.04.2-1.43.59L10.3 9.45l-7.72 7.72c-.78.78-.78 2.05 0 2.83L4 21.41c.39.39.9.59 1.41.59.51 0 1.02-.2 1.41-.59l7.78-7.78 2.81-2.81c.8-.78.8-2.07 0-2.86zM5.41 20L4 18.59l7.72-7.72 1.47 1.35L5.41 20z\"/>\n",
              "  </svg>\n",
              "      </button>\n",
              "      \n",
              "  <style>\n",
              "    .colab-df-container {\n",
              "      display:flex;\n",
              "      flex-wrap:wrap;\n",
              "      gap: 12px;\n",
              "    }\n",
              "\n",
              "    .colab-df-convert {\n",
              "      background-color: #E8F0FE;\n",
              "      border: none;\n",
              "      border-radius: 50%;\n",
              "      cursor: pointer;\n",
              "      display: none;\n",
              "      fill: #1967D2;\n",
              "      height: 32px;\n",
              "      padding: 0 0 0 0;\n",
              "      width: 32px;\n",
              "    }\n",
              "\n",
              "    .colab-df-convert:hover {\n",
              "      background-color: #E2EBFA;\n",
              "      box-shadow: 0px 1px 2px rgba(60, 64, 67, 0.3), 0px 1px 3px 1px rgba(60, 64, 67, 0.15);\n",
              "      fill: #174EA6;\n",
              "    }\n",
              "\n",
              "    [theme=dark] .colab-df-convert {\n",
              "      background-color: #3B4455;\n",
              "      fill: #D2E3FC;\n",
              "    }\n",
              "\n",
              "    [theme=dark] .colab-df-convert:hover {\n",
              "      background-color: #434B5C;\n",
              "      box-shadow: 0px 1px 3px 1px rgba(0, 0, 0, 0.15);\n",
              "      filter: drop-shadow(0px 1px 2px rgba(0, 0, 0, 0.3));\n",
              "      fill: #FFFFFF;\n",
              "    }\n",
              "  </style>\n",
              "\n",
              "      <script>\n",
              "        const buttonEl =\n",
              "          document.querySelector('#df-7c905fd6-b0c7-4963-8dc0-471d42fe148c button.colab-df-convert');\n",
              "        buttonEl.style.display =\n",
              "          google.colab.kernel.accessAllowed ? 'block' : 'none';\n",
              "\n",
              "        async function convertToInteractive(key) {\n",
              "          const element = document.querySelector('#df-7c905fd6-b0c7-4963-8dc0-471d42fe148c');\n",
              "          const dataTable =\n",
              "            await google.colab.kernel.invokeFunction('convertToInteractive',\n",
              "                                                     [key], {});\n",
              "          if (!dataTable) return;\n",
              "\n",
              "          const docLinkHtml = 'Like what you see? Visit the ' +\n",
              "            '<a target=\"_blank\" href=https://colab.research.google.com/notebooks/data_table.ipynb>data table notebook</a>'\n",
              "            + ' to learn more about interactive tables.';\n",
              "          element.innerHTML = '';\n",
              "          dataTable['output_type'] = 'display_data';\n",
              "          await google.colab.output.renderOutput(dataTable, element);\n",
              "          const docLink = document.createElement('div');\n",
              "          docLink.innerHTML = docLinkHtml;\n",
              "          element.appendChild(docLink);\n",
              "        }\n",
              "      </script>\n",
              "    </div>\n",
              "  </div>\n",
              "  "
            ]
          },
          "metadata": {},
          "execution_count": 16
        }
      ]
    },
    {
      "cell_type": "code",
      "source": [
        "df1.to_csv(\"q4_nps.csv\", encoding=\"cp1251\")\n"
      ],
      "metadata": {
        "id": "QRLQuoHmFV0m"
      },
      "execution_count": null,
      "outputs": []
    },
    {
      "cell_type": "code",
      "source": [
        "!ls"
      ],
      "metadata": {
        "colab": {
          "base_uri": "https://localhost:8080/"
        },
        "id": "bp3gU5T7GcER",
        "outputId": "d2ad74ff-cbeb-4569-f024-127373d9ec48"
      },
      "execution_count": null,
      "outputs": [
        {
          "output_type": "stream",
          "name": "stdout",
          "text": [
            " 2020Q4_nps_email.csv\t      2020Q4_nps_web.csv   q4_nps.csv\n",
            "'2020Q4_nps_mobile (1).csv'  'corrupted (1).csv'   sample_data\n",
            " 2020Q4_nps_mobile.csv\t      corrupted.csv\n"
          ]
        }
      ]
    },
    {
      "cell_type": "code",
      "source": [
        "from google.colab import files\n",
        "\n",
        "files.download(\"q4_nps.csv\")"
      ],
      "metadata": {
        "colab": {
          "base_uri": "https://localhost:8080/",
          "height": 17
        },
        "id": "7fkVDkGoGfL8",
        "outputId": "aff38f8c-27a4-4391-91c9-89ce41433cdc"
      },
      "execution_count": null,
      "outputs": [
        {
          "output_type": "display_data",
          "data": {
            "text/plain": [
              "<IPython.core.display.Javascript object>"
            ],
            "application/javascript": [
              "\n",
              "    async function download(id, filename, size) {\n",
              "      if (!google.colab.kernel.accessAllowed) {\n",
              "        return;\n",
              "      }\n",
              "      const div = document.createElement('div');\n",
              "      const label = document.createElement('label');\n",
              "      label.textContent = `Downloading \"${filename}\": `;\n",
              "      div.appendChild(label);\n",
              "      const progress = document.createElement('progress');\n",
              "      progress.max = size;\n",
              "      div.appendChild(progress);\n",
              "      document.body.appendChild(div);\n",
              "\n",
              "      const buffers = [];\n",
              "      let downloaded = 0;\n",
              "\n",
              "      const channel = await google.colab.kernel.comms.open(id);\n",
              "      // Send a message to notify the kernel that we're ready.\n",
              "      channel.send({})\n",
              "\n",
              "      for await (const message of channel.messages) {\n",
              "        // Send a message to notify the kernel that we're ready.\n",
              "        channel.send({})\n",
              "        if (message.buffers) {\n",
              "          for (const buffer of message.buffers) {\n",
              "            buffers.push(buffer);\n",
              "            downloaded += buffer.byteLength;\n",
              "            progress.value = downloaded;\n",
              "          }\n",
              "        }\n",
              "      }\n",
              "      const blob = new Blob(buffers, {type: 'application/binary'});\n",
              "      const a = document.createElement('a');\n",
              "      a.href = window.URL.createObjectURL(blob);\n",
              "      a.download = filename;\n",
              "      div.appendChild(a);\n",
              "      a.click();\n",
              "      div.remove();\n",
              "    }\n",
              "  "
            ]
          },
          "metadata": {}
        },
        {
          "output_type": "display_data",
          "data": {
            "text/plain": [
              "<IPython.core.display.Javascript object>"
            ],
            "application/javascript": [
              "download(\"download_f9514075-d9e6-45e5-91a5-5bf276229c13\", \"q4_nps.csv\", 230032)"
            ]
          },
          "metadata": {}
        }
      ]
    },
    {
      "cell_type": "code",
      "source": [
        "df1.to_excel('q4_nps.xlsx')"
      ],
      "metadata": {
        "id": "RHNZU95byNU7"
      },
      "execution_count": null,
      "outputs": []
    },
    {
      "cell_type": "code",
      "source": [
        "!ls"
      ],
      "metadata": {
        "colab": {
          "base_uri": "https://localhost:8080/"
        },
        "id": "_iMtlSbhzuRP",
        "outputId": "bbb1cebe-aeb5-4c58-d8b6-16e1c6da8e5f"
      },
      "execution_count": null,
      "outputs": [
        {
          "output_type": "stream",
          "name": "stdout",
          "text": [
            " 2020Q4_nps_email.csv\t     'corrupted (1).csv'   q4_nps.xlsx\n",
            "'2020Q4_nps_mobile (1).csv'   corrupted.csv\t   sample_data\n",
            " 2020Q4_nps_mobile.csv\t     'q4_nps (1).csv'\n",
            " 2020Q4_nps_web.csv\t      q4_nps.csv\n"
          ]
        }
      ]
    },
    {
      "cell_type": "code",
      "source": [
        "from google.colab import files\n",
        "\n",
        "files.download(\"q4_nps.xlsx\")"
      ],
      "metadata": {
        "colab": {
          "base_uri": "https://localhost:8080/",
          "height": 17
        },
        "id": "d9VT5QvJzymZ",
        "outputId": "c29e3712-cfd4-4fba-d6c0-ef515e1f2934"
      },
      "execution_count": null,
      "outputs": [
        {
          "output_type": "display_data",
          "data": {
            "text/plain": [
              "<IPython.core.display.Javascript object>"
            ],
            "application/javascript": [
              "\n",
              "    async function download(id, filename, size) {\n",
              "      if (!google.colab.kernel.accessAllowed) {\n",
              "        return;\n",
              "      }\n",
              "      const div = document.createElement('div');\n",
              "      const label = document.createElement('label');\n",
              "      label.textContent = `Downloading \"${filename}\": `;\n",
              "      div.appendChild(label);\n",
              "      const progress = document.createElement('progress');\n",
              "      progress.max = size;\n",
              "      div.appendChild(progress);\n",
              "      document.body.appendChild(div);\n",
              "\n",
              "      const buffers = [];\n",
              "      let downloaded = 0;\n",
              "\n",
              "      const channel = await google.colab.kernel.comms.open(id);\n",
              "      // Send a message to notify the kernel that we're ready.\n",
              "      channel.send({})\n",
              "\n",
              "      for await (const message of channel.messages) {\n",
              "        // Send a message to notify the kernel that we're ready.\n",
              "        channel.send({})\n",
              "        if (message.buffers) {\n",
              "          for (const buffer of message.buffers) {\n",
              "            buffers.push(buffer);\n",
              "            downloaded += buffer.byteLength;\n",
              "            progress.value = downloaded;\n",
              "          }\n",
              "        }\n",
              "      }\n",
              "      const blob = new Blob(buffers, {type: 'application/binary'});\n",
              "      const a = document.createElement('a');\n",
              "      a.href = window.URL.createObjectURL(blob);\n",
              "      a.download = filename;\n",
              "      div.appendChild(a);\n",
              "      a.click();\n",
              "      div.remove();\n",
              "    }\n",
              "  "
            ]
          },
          "metadata": {}
        },
        {
          "output_type": "display_data",
          "data": {
            "text/plain": [
              "<IPython.core.display.Javascript object>"
            ],
            "application/javascript": [
              "download(\"download_b4e68856-75eb-4117-93ed-b8630eae61f0\", \"q4_nps.xlsx\", 230470)"
            ]
          },
          "metadata": {}
        }
      ]
    },
    {
      "cell_type": "markdown",
      "source": [
        "**3. Визуализировать входные и выходные результаты в  <a href=\"https://cloud.yandex.ru/services/datalens\">Yandex DataLens</a>   и <a href=\"https://datastudio.google.com/\">Google dashboard</a>.**"
      ],
      "metadata": {
        "id": "QUdjDLCsvg35"
      }
    },
    {
      "cell_type": "markdown",
      "source": [
        "![image.png](data:image/png;base64,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)"
      ],
      "metadata": {
        "id": "KHQq8T1JBTr2"
      }
    },
    {
      "cell_type": "markdown",
      "source": [
        "![image.png](data:image/png;base64,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)"
      ],
      "metadata": {
        "id": "UCMSv0k3v4gn"
      }
    },
    {
      "cell_type": "markdown",
      "source": [
        "![image.png](data:image/png;base64,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)"
      ],
      "metadata": {
        "id": "Y0s-ra9bv66W"
      }
    }
  ],
  "metadata": {
    "kernelspec": {
      "name": "python3",
      "display_name": "Python 3.8.5 64-bit ('base': conda)"
    },
    "language_info": {
      "codemirror_mode": {
        "name": "ipython",
        "version": 3
      },
      "file_extension": ".py",
      "mimetype": "text/x-python",
      "name": "python",
      "nbconvert_exporter": "python",
      "pygments_lexer": "ipython3",
      "version": "3.8.5"
    },
    "interpreter": {
      "hash": "477af6dc7db3e07bba4a82181506cd1ea8c5d1ba778f52f96c06a72a0ad16534"
    },
    "colab": {
      "provenance": [],
      "collapsed_sections": [],
      "include_colab_link": true
    }
  },
  "nbformat": 4,
  "nbformat_minor": 0
}