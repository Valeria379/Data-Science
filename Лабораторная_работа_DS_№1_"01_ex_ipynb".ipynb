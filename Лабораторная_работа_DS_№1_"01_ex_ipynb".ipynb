{
  "cells": [
    {
      "cell_type": "markdown",
      "metadata": {
        "id": "view-in-github",
        "colab_type": "text"
      },
      "source": [
        "<a href=\"https://colab.research.google.com/github/Valeria379/Valeria-Morozova/blob/main/%D0%9B%D0%B0%D0%B1%D0%BE%D1%80%D0%B0%D1%82%D0%BE%D1%80%D0%BD%D0%B0%D1%8F_%D1%80%D0%B0%D0%B1%D0%BE%D1%82%D0%B0_DS_%E2%84%961_%2201_ex_ipynb%22.ipynb\" target=\"_parent\"><img src=\"https://colab.research.google.com/assets/colab-badge.svg\" alt=\"Open In Colab\"/></a>"
      ]
    },
    {
      "cell_type": "markdown",
      "metadata": {
        "id": "Jyrf8xk3k6Ys"
      },
      "source": [
        "# Лабораторная работа к лекции 1\n",
        "Ваше имя: Валерия Морозова\n",
        "\n",
        "Ваш адрес электронной почты:Morozova-VA@mgpu.ru"
      ]
    },
    {
      "cell_type": "markdown",
      "metadata": {
        "id": "86N7viRzk6Yt"
      },
      "source": [
        "## Упражнение 1.1. Типы данных и операции\n",
        "1. Определите две переменные и присвойте первой целое число, а второй — число с плавающей запятой. Определите новую переменную и присвойте сумму двух предыдущих переменных. Каков тип данных третьей переменной?\n",
        "2. Переназначьте переменную с другим типом данных, например, возьмите одну из числовых переменных и присвойте ей строку. Какой новый тип данных?\n",
        "3. Посмотрите, что произойдет, если вы попытаетесь добавить строку к строке.\n",
        "4. Посмотрите, что произойдет, если вы добавите строку к числу с плавающей запятой или целому числу."
      ]
    },
    {
      "cell_type": "code",
      "execution_count": null,
      "metadata": {
        "id": "9ZgZCUPNk6Yt",
        "colab": {
          "base_uri": "https://localhost:8080/"
        },
        "outputId": "088ce190-8d2e-4e30-88cc-2f8cac8b3bd2"
      },
      "outputs": [
        {
          "output_type": "stream",
          "name": "stdout",
          "text": [
            "<class 'float'>\n"
          ]
        }
      ],
      "source": [
        "# пункт 1\n",
        "a = 7\n",
        "b = 14.6\n",
        "c = (a + b)\n",
        "print(type(c))"
      ]
    },
    {
      "cell_type": "code",
      "source": [
        "# пункт 2\n",
        "a = \"16\"\n",
        "print(type(a))"
      ],
      "metadata": {
        "colab": {
          "base_uri": "https://localhost:8080/"
        },
        "id": "gT7e8yMuUAoL",
        "outputId": "0bba8e21-37b5-4fb2-a490-3ebde14ace41"
      },
      "execution_count": 7,
      "outputs": [
        {
          "output_type": "stream",
          "name": "stdout",
          "text": [
            "<class 'str'>\n"
          ]
        }
      ]
    },
    {
      "cell_type": "code",
      "source": [
        "# пункт 3\n",
        "str1 = \"Hello\"\n",
        "str2 = \" Kitty\"\n",
        "result = str1 + str2\n",
        "print(result)"
      ],
      "metadata": {
        "colab": {
          "base_uri": "https://localhost:8080/"
        },
        "id": "SXFPzBxNUv2G",
        "outputId": "bf329dae-fa23-48c4-81a8-906de27b4220"
      },
      "execution_count": 2,
      "outputs": [
        {
          "output_type": "stream",
          "name": "stdout",
          "text": [
            "Hello Kitty\n"
          ]
        }
      ]
    },
    {
      "cell_type": "code",
      "source": [
        "# пункт 4.1\n",
        "d = 20\n",
        "exp1 = d + str1\n",
        "print(exp1)"
      ],
      "metadata": {
        "colab": {
          "base_uri": "https://localhost:8080/",
          "height": 193
        },
        "id": "dxpTxzQfVUn9",
        "outputId": "6b3cf2eb-624f-4217-9dc7-055a51b84737"
      },
      "execution_count": 1,
      "outputs": [
        {
          "output_type": "error",
          "ename": "NameError",
          "evalue": "name 'str1' is not defined",
          "traceback": [
            "\u001b[0;31m---------------------------------------------------------------------------\u001b[0m",
            "\u001b[0;31mNameError\u001b[0m                                 Traceback (most recent call last)",
            "\u001b[0;32m<ipython-input-1-8b101da2dd09>\u001b[0m in \u001b[0;36m<cell line: 3>\u001b[0;34m()\u001b[0m\n\u001b[1;32m      1\u001b[0m \u001b[0;31m# пункт 4.1\u001b[0m\u001b[0;34m\u001b[0m\u001b[0;34m\u001b[0m\u001b[0m\n\u001b[1;32m      2\u001b[0m \u001b[0md\u001b[0m \u001b[0;34m=\u001b[0m \u001b[0;36m20\u001b[0m\u001b[0;34m\u001b[0m\u001b[0;34m\u001b[0m\u001b[0m\n\u001b[0;32m----> 3\u001b[0;31m \u001b[0mexp1\u001b[0m \u001b[0;34m=\u001b[0m \u001b[0md\u001b[0m \u001b[0;34m+\u001b[0m \u001b[0mstr1\u001b[0m\u001b[0;34m\u001b[0m\u001b[0;34m\u001b[0m\u001b[0m\n\u001b[0m\u001b[1;32m      4\u001b[0m \u001b[0mprint\u001b[0m\u001b[0;34m(\u001b[0m\u001b[0mexp1\u001b[0m\u001b[0;34m)\u001b[0m\u001b[0;34m\u001b[0m\u001b[0;34m\u001b[0m\u001b[0m\n",
            "\u001b[0;31mNameError\u001b[0m: name 'str1' is not defined"
          ]
        }
      ]
    },
    {
      "cell_type": "markdown",
      "source": [
        "При сложении разных типов данных выводится ошибка, но ее можно исправить, изменив тип одного из слагаемых"
      ],
      "metadata": {
        "id": "lw0GNXBQNP0V"
      }
    },
    {
      "cell_type": "code",
      "source": [
        "# пункт 4.2\n",
        "exp2 = str2 + str(b)\n",
        "print(exp2)"
      ],
      "metadata": {
        "colab": {
          "base_uri": "https://localhost:8080/"
        },
        "id": "tWFIBWsMWnvl",
        "outputId": "660953f4-a3f2-4639-ecd8-1b5450eb2544"
      },
      "execution_count": null,
      "outputs": [
        {
          "output_type": "stream",
          "name": "stdout",
          "text": [
            "Kitty14.6\n"
          ]
        }
      ]
    },
    {
      "cell_type": "markdown",
      "metadata": {
        "id": "ZMoobyT-k6Yu"
      },
      "source": [
        "## Упражнение 1.2. Запуск программ\n",
        "\n",
        "  * Создайте новый файл Python(или файл с расширением `.ipynb`) и используйте функцию `double_number` в качестве шаблона. Измените код, чтобы добавить два числа вместо удвоения одного числа.\n",
        "  * Можете ли вы догадаться, что произойдет, если изменить отступ? Выполните данное действие.\n",
        "  * Попробуйте, что произойдет, если вы напечатаете `a` в самом конце программы. Пояснить, что происходит?\n",
        " [Текст ссылки](https://)"
      ]
    },
    {
      "cell_type": "code",
      "execution_count": 3,
      "metadata": {
        "id": "N2v5UHG1k6Yu",
        "colab": {
          "base_uri": "https://localhost:8080/"
        },
        "outputId": "ab8b4461-73cf-4abe-fdff-f3a2654e5079"
      },
      "outputs": [
        {
          "output_type": "stream",
          "name": "stdout",
          "text": [
            "14\n"
          ]
        }
      ],
      "source": [
        "def double_number(n):\n",
        "  number = n*2\n",
        "  return number\n",
        "\n",
        "print(double_number(7))"
      ]
    },
    {
      "cell_type": "code",
      "source": [
        "def double_number2(k, l):\n",
        "  number2 = k + l\n",
        "  return number2\n",
        "\n",
        "print(double_number2(13, 18))"
      ],
      "metadata": {
        "colab": {
          "base_uri": "https://localhost:8080/"
        },
        "id": "1OfCmCyLItn0",
        "outputId": "744ded1e-aacf-49e5-9da9-34608be672ef"
      },
      "execution_count": 5,
      "outputs": [
        {
          "output_type": "stream",
          "name": "stdout",
          "text": [
            "31\n"
          ]
        }
      ]
    },
    {
      "cell_type": "code",
      "source": [
        "  #изменим отступ\n",
        "   def double_number2(k, l):\n",
        "  number2 = k + l\n",
        "  return number2\n",
        "\n",
        "print(double_number2(13, 18))"
      ],
      "metadata": {
        "colab": {
          "base_uri": "https://localhost:8080/",
          "height": 106
        },
        "id": "xgYJcTPBMGDP",
        "outputId": "a128ac0e-159c-4b8b-8697-888aaba28bef"
      },
      "execution_count": 10,
      "outputs": [
        {
          "output_type": "error",
          "ename": "IndentationError",
          "evalue": "unexpected indent (<ipython-input-10-4919c90c9652>, line 2)",
          "traceback": [
            "\u001b[0;36m  File \u001b[0;32m\"<ipython-input-10-4919c90c9652>\"\u001b[0;36m, line \u001b[0;32m2\u001b[0m\n\u001b[0;31m    def double_number2(k, l):\u001b[0m\n\u001b[0m    ^\u001b[0m\n\u001b[0;31mIndentationError\u001b[0m\u001b[0;31m:\u001b[0m unexpected indent\n"
          ]
        }
      ]
    },
    {
      "cell_type": "markdown",
      "source": [
        "Изменение отступа привело к ошибке синтаксиса (unexpected indent)"
      ],
      "metadata": {
        "id": "lmQQFwUXMfhb"
      }
    },
    {
      "cell_type": "code",
      "source": [
        "#напечатаем а в конце программы\n",
        "print(a)"
      ],
      "metadata": {
        "colab": {
          "base_uri": "https://localhost:8080/"
        },
        "id": "fyYOk-iAM4Hi",
        "outputId": "2a5f0d2c-6e70-44f7-8d51-c837e898c418"
      },
      "execution_count": 9,
      "outputs": [
        {
          "output_type": "stream",
          "name": "stdout",
          "text": [
            "16\n"
          ]
        }
      ]
    },
    {
      "cell_type": "markdown",
      "source": [
        "В результате выведено число, присвоенное в прошлом задании"
      ],
      "metadata": {
        "id": "WFBI39TINL7_"
      }
    },
    {
      "cell_type": "markdown",
      "metadata": {
        "id": "15GtjpzGk6Yu"
      },
      "source": [
        "## Упражнение 1.3. Создание ячеек, выполнение кода\n",
        "\n",
        "1. Создайте новую ячейку кода ниже, где вы определите переменные, содержащие ваше имя, ваш возраст  и вашу специальность.\n",
        "2. Создайте еще одну ячейку, использующую эти переменные, и выведите объединенную строку с указанием вашего имени, специальности и возраста в годах, месяцах и днях (при условии, что сегодня ваш день рождения). Вывод должен выглядеть так:\n",
        "\n",
        "```\n",
        "Имя: Кот-ученый, Специальность: Бизнес-Информатика, Возраст: 18 лет, или 216 месяцев, или 6480 дней..\n",
        "```"
      ]
    },
    {
      "cell_type": "code",
      "source": [
        "Name = \"Валерия\"\n",
        "Specialization = \"Бизнес-информатика\"\n",
        "Age = 20"
      ],
      "metadata": {
        "id": "pSatoW809jNO"
      },
      "execution_count": null,
      "outputs": []
    },
    {
      "cell_type": "code",
      "source": [
        "from datetime import datetime\n",
        "today = datetime.now()\n",
        "Birthday_date = today.replace(year=today.year - Age)\n",
        "Days = (today - Birthday_date).days\n",
        "Mounths = Days // 30\n",
        "print(f\"Имя: {Name}, Специальность: {Specialization}, Возраст: {Age} лет, или {Mounths} месяца, или {Days} дней\")"
      ],
      "metadata": {
        "colab": {
          "base_uri": "https://localhost:8080/"
        },
        "id": "M4-qw3A2-9nq",
        "outputId": "a3515581-910e-4b15-f0c6-1ce7b162c290"
      },
      "execution_count": null,
      "outputs": [
        {
          "output_type": "stream",
          "name": "stdout",
          "text": [
            "Имя: Валерия, Специальность: Бизнес-информатика, Возраст: 20 лет, или 243 месяца, или 7305 дней\n"
          ]
        }
      ]
    },
    {
      "cell_type": "markdown",
      "metadata": {
        "id": "bPTBzjXhk6Yu"
      },
      "source": [
        "## Упражнение 1.4: Функции\n",
        "Напишите функцию, которая\n",
        "  * принимает две числовые переменные\n",
        "  * умножает их друг на друга\n",
        "  * делит их на числовую переменную, определенную в области видимости вне функции\n",
        "  * и возвращает результат.\n",
        "\n",
        "Выведите результат функции для трех разных наборов входных переменных."
      ]
    },
    {
      "cell_type": "code",
      "execution_count": 2,
      "metadata": {
        "id": "z7DKIUQCk6Yu"
      },
      "outputs": [],
      "source": [
        "def multiply_divide(a, b):\n",
        "  m = 30\n",
        "  result = (a * b)/m\n",
        "  return result"
      ]
    },
    {
      "cell_type": "code",
      "source": [
        "print(multiply_divide(5, 60))"
      ],
      "metadata": {
        "colab": {
          "base_uri": "https://localhost:8080/"
        },
        "id": "4ysQYCpPfGYv",
        "outputId": "89402ef2-9c0a-4f9a-bd87-845e751be4af"
      },
      "execution_count": 4,
      "outputs": [
        {
          "output_type": "stream",
          "name": "stdout",
          "text": [
            "10.0\n"
          ]
        }
      ]
    },
    {
      "cell_type": "code",
      "source": [
        "print(multiply_divide(9, 10))"
      ],
      "metadata": {
        "colab": {
          "base_uri": "https://localhost:8080/"
        },
        "id": "Kazo2sh9fqKQ",
        "outputId": "f60e485d-c4df-4c07-9155-3330cd5aeae8"
      },
      "execution_count": 5,
      "outputs": [
        {
          "output_type": "stream",
          "name": "stdout",
          "text": [
            "3.0\n"
          ]
        }
      ]
    },
    {
      "cell_type": "code",
      "source": [
        "print(multiply_divide(7, 11))"
      ],
      "metadata": {
        "colab": {
          "base_uri": "https://localhost:8080/"
        },
        "id": "tmr9MZrnf2Jw",
        "outputId": "19eb8813-c3f1-42ff-9db4-1a66f743f91c"
      },
      "execution_count": 6,
      "outputs": [
        {
          "output_type": "stream",
          "name": "stdout",
          "text": [
            "2.566666666666667\n"
          ]
        }
      ]
    },
    {
      "cell_type": "markdown",
      "metadata": {
        "id": "tx7N3sgbyK3X"
      },
      "source": [
        "## Упражнение 1.5*\n",
        "\n",
        "Есть некоторые данные о количестве книг, прочитанных разными людьми, работающими в книжном магазине Владимира. Создайте код Python, который учитывает каждого человека и выводит, сколько книг он прочитал. Если кто-то прочитал 0 книг, выведите «___ не читал ни одной книги!» вместо количества книг."
      ]
    },
    {
      "cell_type": "code",
      "execution_count": 11,
      "metadata": {
        "id": "jE6g82xhyK3X"
      },
      "outputs": [],
      "source": [
        "people = ['Krishnang', 'Steve', 'Jimmy', 'Mary', 'Divya', 'Robert', 'Yulia']\n",
        "books_read = [12, 6, 0, 7, 4, 10, 15]"
      ]
    },
    {
      "cell_type": "markdown",
      "metadata": {
        "id": "2qJAH1HwyK3X"
      },
      "source": [
        "Существует несколько способов решить эту задачу: можно изучить функцию `zip()`, использовать `enumerate()`, `range` и `len` или использовать другие методы. Чтобы напечатать имена и значения, вы можете использовать конкатенацию строк (+), форматирование f-строки или другие методы."
      ]
    },
    {
      "cell_type": "markdown",
      "source": [
        "Функция **enumerate** используется для получения индекса текущего элемента в цикле.\n",
        "\n",
        "Функция **range** генерирует ряд чисел в рамках заданного диапазона. Началом диапазона является число 0 (индекс первого элемента), а концом — индекс последнего элемента.\n",
        "\n",
        "Функция **len** возвращает длину списка.\n",
        "Функция **zip** () используется для совмещения двух и более списков в один. Она возвращает итератор кортежей, где i-ый кортеж содержит i-ый элемент из каждого из переданных списков."
      ],
      "metadata": {
        "id": "N3baXnkiSxU1"
      }
    },
    {
      "cell_type": "code",
      "source": [
        "for people, books_read in zip(people, books_read):\n",
        "  if books_read == 0:\n",
        "    print(f\"{people} не читал ни одной книги!\")\n",
        "  else:\n",
        "    print(f\"{people} прочитал {books_read} книг\")"
      ],
      "metadata": {
        "colab": {
          "base_uri": "https://localhost:8080/"
        },
        "id": "1HRksR0vjnsH",
        "outputId": "17c66c1d-c792-4e6e-8333-bf41f9633ac8"
      },
      "execution_count": 12,
      "outputs": [
        {
          "output_type": "stream",
          "name": "stdout",
          "text": [
            "Krishnang прочитал 12 книг\n",
            "Steve прочитал 6 книг\n",
            "Jimmy не читал ни одной книги!\n",
            "Mary прочитал 7 книг\n",
            "Divya прочитал 4 книг\n",
            "Robert прочитал 10 книг\n",
            "Yulia прочитал 15 книг\n"
          ]
        }
      ]
    },
    {
      "cell_type": "markdown",
      "metadata": {
        "id": "mX4-VccSyK3Y"
      },
      "source": [
        "Преобразуйте только что созданный цикл в функцию, которая принимает два списка (прочитанные книги и людей) в качестве аргументов."
      ]
    },
    {
      "cell_type": "code",
      "source": [
        "def function(people, books_read):\n",
        "  for people, books_read in zip(people, books_read):\n",
        "    if books_read == 0:\n",
        "      print(f\"{people} не читал ни одной книги!\")\n",
        "    else:\n",
        "      print(f\"{people} прочитал {books_read} книг\")\n",
        "\n",
        "\n",
        "function(people, books_read)"
      ],
      "metadata": {
        "colab": {
          "base_uri": "https://localhost:8080/"
        },
        "id": "Dg-tNXTTWrIO",
        "outputId": "9d4a8daf-2dfc-494d-c6d5-9a34d0e29ef4"
      },
      "execution_count": 22,
      "outputs": [
        {
          "output_type": "stream",
          "name": "stdout",
          "text": [
            "Krishnang прочитал 12 книг\n",
            "Steve прочитал 6 книг\n",
            "Jimmy не читал ни одной книги!\n",
            "Mary прочитал 7 книг\n",
            "Divya прочитал 4 книг\n",
            "Robert прочитал 10 книг\n",
            "Yulia прочитал 15 книг\n"
          ]
        }
      ]
    },
    {
      "cell_type": "markdown",
      "metadata": {
        "id": "dQ_SFOUHyK3Y"
      },
      "source": [
        "Отсортируйте значения `books_read` от большего к меньшему и выведите трех первых людей с количеством прочитанных ими книг. Некоторые возможные способы решения этой задачи включают использование сортировки аргументов `NumPy`, создание словаря и создание кортежей."
      ]
    },
    {
      "cell_type": "code",
      "source": [
        "import numpy as np"
      ],
      "metadata": {
        "id": "3xbMvTh99K8w"
      },
      "execution_count": 23,
      "outputs": []
    },
    {
      "cell_type": "code",
      "source": [
        "def function(people, books_read):\n",
        "    book_sort = sorted(zip(people, books_read), reverse = True)\n",
        "    for people, books_read in book_sort[:3]:\n",
        "        print(f\"{people} прочитал {books_read} книг\")\n",
        "\n",
        "function(people, books_read)"
      ],
      "metadata": {
        "colab": {
          "base_uri": "https://localhost:8080/"
        },
        "id": "eQEdeh4XqCqa",
        "outputId": "8eeac9c9-97b9-4e5b-e6ab-68370314c871"
      },
      "execution_count": 32,
      "outputs": [
        {
          "output_type": "stream",
          "name": "stdout",
          "text": [
            "Yulia прочитал 15 книг\n",
            "Steve прочитал 6 книг\n",
            "Robert прочитал 10 книг\n"
          ]
        }
      ]
    }
  ],
  "metadata": {
    "colab": {
      "provenance": [],
      "include_colab_link": true
    },
    "kernelspec": {
      "display_name": "Python 3 (ipykernel)",
      "language": "python",
      "name": "python3"
    },
    "language_info": {
      "codemirror_mode": {
        "name": "ipython",
        "version": 3
      },
      "file_extension": ".py",
      "mimetype": "text/x-python",
      "name": "python",
      "nbconvert_exporter": "python",
      "pygments_lexer": "ipython3",
      "version": "3.9.13"
    }
  },
  "nbformat": 4,
  "nbformat_minor": 0
}